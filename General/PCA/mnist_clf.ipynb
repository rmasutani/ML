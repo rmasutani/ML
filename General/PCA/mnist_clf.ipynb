{
 "cells": [
  {
   "cell_type": "code",
   "execution_count": 4,
   "metadata": {},
   "outputs": [],
   "source": [
    "import numpy as np\n",
    "import seaborn as sns\n",
    "import matplotlib.pyplot as plt\n",
    "import keras\n",
    "\n",
    "from sklearn.decomposition import PCA\n",
    "\n",
    "np.random.seed(101)\n",
    "\n",
    "# sns.set()\n",
    "plt.rcParams['figure.figsize'] = (11.0, 8.0)"
   ]
  },
  {
   "cell_type": "code",
   "execution_count": 2,
   "metadata": {},
   "outputs": [],
   "source": [
    "# データ読み込み\n",
    "(x_train, y_train), (x_test, y_test) = keras.datasets.mnist.load_data()"
   ]
  },
  {
   "cell_type": "code",
   "execution_count": 23,
   "metadata": {},
   "outputs": [
    {
     "data": {
      "text/plain": [
       "(5923, 784)"
      ]
     },
     "execution_count": 23,
     "metadata": {},
     "output_type": "execute_result"
    },
    {
     "data": {
      "image/png": "[encoded data removed]",
      "text/plain": [
       "<Figure size 792x576 with 1 Axes>"
      ]
     },
     "metadata": {
      "needs_background": "light"
     },
     "output_type": "display_data"
    }
   ],
   "source": [
    "plt.imshow(x_train[y_train==0][0])\n",
    "\n",
    "num_zeros = x_train[y_train==0].reshape(-1, 784)\n",
    "\n",
    "num_zeros.shape"
   ]
  },
  {
   "cell_type": "code",
   "execution_count": 24,
   "metadata": {},
   "outputs": [],
   "source": [
    "# pca = PCA(n_components=2)\n",
    "# pca.fit(num_zeros)\n",
    "# transformed = pca.transform(num_zeros)\n",
    "\n",
    "comp_items = [5, 10, 20, 30]\n",
    "cumsum_explained = np.zeros((10, len(comp_items)))\n",
    "for i, n_comp in zip(range(len(comp_items)), comp_items):\n",
    "    for num in range(1):\n",
    "        pca = PCA(n_components = n_comp)  # 主成分分析オブジェクトの作成\n",
    "        pca.fit(num_zeros)                       # 主成分分析の実行\n",
    "        transformed = pca.transform(num_zeros)   # データに対して削減後のベクトルを生成\n",
    "        E = pca.explained_variance_ratio_        # 寄与率\n",
    "        cumsum_explained[num, i] = np.cumsum(E)[::-1][0] # 累積寄与率"
   ]
  },
  {
   "cell_type": "code",
   "execution_count": 25,
   "metadata": {},
   "outputs": [
    {
     "name": "stdout",
     "output_type": "stream",
     "text": [
      "|　label　|explained n_comp:5|explained n_comp:10|explained n_comp:20|explained n_comp:30|\n",
      "|:-----:|:-----:|:-----:|:-----:|:-----:|\n",
      "|0|48.6％|62.6％|75.8％|81.9％|\n"
     ]
    }
   ],
   "source": [
    "print(\"|　label　|explained n_comp:5|explained n_comp:10|explained n_comp:20|explained n_comp:30|\")\n",
    "print(\"|:-----:|:-----:|:-----:|:-----:|:-----:|\")\n",
    "for i in range(1):\n",
    "    print(\"|%d|%.1f％|%.1f％|%.1f％|%.1f％|\"%(i, cumsum_explained[i,0]*100, cumsum_explained[i,1]*100, cumsum_explained[i,2]*100, cumsum_explained[i,3]*100))"
   ]
  },
  {
   "cell_type": "markdown",
   "metadata": {},
   "source": [
    "|　label　|explained n_comp:5|explained n_comp:10|explained n_comp:20|explained n_comp:30|\n",
    "|:-----:|:-----:|:-----:|:-----:|:-----:|\n",
    "|0|48.6％|62.6％|75.8％|81.9％|"
   ]
  },
  {
   "cell_type": "code",
   "execution_count": null,
   "metadata": {},
   "outputs": [],
   "source": [
    "n_comp = 30\n",
    "\n",
    "fig = plt.figure(figsize=(10, 12))\n",
    "for i in range(n_comp):\n",
    "    plot_digits(pca.components_[i], size, 6, 5, i+1, \"comp:%d exp:%.3f\" % (i+1, E[0]), fontsize=9)"
   ]
  }
 ],
 "metadata": {
  "kernelspec": {
   "display_name": "Python 3.7.4 64-bit",
   "language": "python",
   "name": "python37464bitc32ce4a03cda47aa907d3f777079e78b"
  },
  "language_info": {
   "codemirror_mode": {
    "name": "ipython",
    "version": 3
   },
   "file_extension": ".py",
   "mimetype": "text/x-python",
   "name": "python",
   "nbconvert_exporter": "python",
   "pygments_lexer": "ipython3",
   "version": "3.7.4"
  }
 },
 "nbformat": 4,
 "nbformat_minor": 4
}
