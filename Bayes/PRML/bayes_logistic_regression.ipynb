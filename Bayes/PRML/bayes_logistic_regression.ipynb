{
 "cells": [
  {
   "cell_type": "markdown",
   "metadata": {},
   "source": [
    "# Bayesian Logistic Regression with Laplace Approximation"
   ]
  },
  {
   "cell_type": "code",
   "execution_count": 1,
   "metadata": {},
   "outputs": [],
   "source": [
    "import numpy as np\n",
    "from sklearn.preprocessing import PolynomialFeatures\n",
    "import matplotlib.pyplot as plt\n",
    "\n",
    "np.random.seed(0)"
   ]
  },
  {
   "cell_type": "markdown",
   "metadata": {},
   "source": [
    "## Base class"
   ]
  },
  {
   "cell_type": "code",
   "execution_count": 2,
   "metadata": {},
   "outputs": [],
   "source": [
    "class LogisticRegression():\n",
    "    @staticmethod\n",
    "    def _sigmoid(z):\n",
    "        return 1 / (1 + np.exp(-z))"
   ]
  },
  {
   "cell_type": "markdown",
   "metadata": {},
   "source": [
    "## Main class"
   ]
  },
  {
   "cell_type": "code",
   "execution_count": 26,
   "metadata": {},
   "outputs": [],
   "source": [
    "class BayesianLogisticRegression(LogisticRegression):\n",
    "    def __init__(self, n_iter=1000):\n",
    "        self._n_iter = n_iter\n",
    "        self._w = None\n",
    "        \n",
    "        # Initialize hyperparamters for Gaussian prior\n",
    "        self._w_mean = None\n",
    "        self._w_scale = None\n",
    "                \n",
    "\n",
    "    def fit(self, X, t):\n",
    "        \"\"\"\n",
    "        X -> np.ndarray(size=(n, p))\n",
    "        t -> np.ndarray(size=(n, 1))\n",
    "        w -> np.ndarray(size=(p, 1))\n",
    "        \"\"\"\n",
    "        \n",
    "        # weight initialization\n",
    "        input_shape = X.shape\n",
    "        self._w = np.zeros(input_shape[1])\n",
    "        \n",
    "        # w prior parameter initilization\n",
    "        self._w_scale = 1. * np.eye(self._w.shape[0]) \n",
    "        self._w_mean = np.zeros_like(self._w)\n",
    "        \n",
    "        for _ in range(self._n_iter):\n",
    "            w_prev = self._w.copy()\n",
    "            y = self._sigmoid(X@self._w)\n",
    "            \n",
    "            grad = X.T @ (y - t) + self._w_scale @ (self._w - self._w_mean)\n",
    "            hessian = np.linalg.inv(self._w_scale) + (X.T * y * (1-y)) @ X\n",
    "            \n",
    "            self._w -= np.linalg.solve(hessian, grad)\n",
    "            \n",
    "            if np.allclose(w_prev, self._w):\n",
    "                break\n",
    "        \n",
    "        self._w_mean = self._w\n",
    "        self._w_scale = hessian\n",
    "                \n",
    "    def predict_proba(self, X):\n",
    "        return self._sigmoid(X @ self._w)\n",
    "        \n",
    "    def predict_dist(self, X):\n",
    "        \"\"\"\n",
    "        X -> np.ndarray(size=(n, p))\n",
    "        t -> np.ndarray(size=(n, 1))\n",
    "        w -> np.ndarray(size=(p, 1))\n",
    "        \"\"\"\n",
    "\n",
    "        mu_a = X @ self._w_mean\n",
    "        var_a = np.sum(np.linalg.solve(self._w_scale, X.T).T * X, axis=1)\n",
    "        \n",
    "        print(np.sum((X @ self._w_scale) * X, axis=1), np.sum((X @ self._w_scale) * X, axis=1).shape)\n",
    "        print(np.sum(np.linalg.solve(self._w_scale, X.T).T * X, axis=1), np.sum(np.linalg.solve(self._w_scale, X.T).T * X, axis=1).shape)\n",
    "        \n",
    "#         print(X.shape, self._w_scale.shape, X.T.shape)\n",
    "        \n",
    "#         print(mu_a.shape, var_a.shape)\n",
    "        \n",
    "        return self._sigmoid(mu_a / np.sqrt(1 + np.pi * var_a / 8))"
   ]
  },
  {
   "cell_type": "code",
   "execution_count": 27,
   "metadata": {},
   "outputs": [],
   "source": [
    "def create_data_set():\n",
    "    x = np.random.normal(size=50).reshape(-1, 2)\n",
    "    y = np.random.normal(size=50).reshape(-1, 2)\n",
    "    y += np.array([2., 2.])\n",
    "    return (np.concatenate([x, y]), np.concatenate([np.zeros(25), np.ones(25)]))\n"
   ]
  },
  {
   "cell_type": "code",
   "execution_count": 28,
   "metadata": {},
   "outputs": [
    {
     "data": {
      "text/plain": [
       "<matplotlib.collections.PathCollection at 0x123227850>"
      ]
     },
     "execution_count": 28,
     "metadata": {},
     "output_type": "execute_result"
    },
    {
     "data": {
      "image/png": "[encoded data removed]",
      "text/plain": [
       "<Figure size 432x288 with 1 Axes>"
      ]
     },
     "metadata": {
      "needs_background": "light"
     },
     "output_type": "display_data"
    }
   ],
   "source": [
    "X, t = create_data_set()\n",
    "colors = ['blue', 'red']\n",
    "plt.scatter(X[:, 0], X[:, 1], c=[colors[int(label)] for label in t])"
   ]
  },
  {
   "cell_type": "code",
   "execution_count": 29,
   "metadata": {},
   "outputs": [
    {
     "name": "stdout",
     "output_type": "stream",
     "text": [
      "[  5140.02110988   4837.2041846    4560.86603881 ... 640862.34675256\n",
      " 658774.71536069 677425.9086925 ] (10000,)\n",
      "[ 148.09143131  135.51756913  124.16616454 ... 2241.04083638 2386.69459356\n",
      " 2542.50646399] (10000,)\n"
     ]
    },
    {
     "data": {
      "text/plain": [
       "array([0.11625552, 0.11761423, 0.1190729 , ..., 0.93292004, 0.93320487,\n",
       "       0.93344383])"
      ]
     },
     "execution_count": 29,
     "metadata": {},
     "output_type": "execute_result"
    },
    {
     "data": {
      "image/png": "[encoded data removed]",
      "text/plain": [
       "<Figure size 432x288 with 2 Axes>"
      ]
     },
     "metadata": {
      "needs_background": "light"
     },
     "output_type": "display_data"
    }
   ],
   "source": [
    "features = PolynomialFeatures(degree=3)\n",
    "\n",
    "clf = BayesianLogisticRegression()\n",
    "clf.fit(features.fit_transform(X), t)\n",
    "\n",
    "X_test, Y_test = np.meshgrid(np.linspace(-2, 4, 100), np.linspace(-2, 4, 100))\n",
    "x_test = np.array([X_test, Y_test]).transpose(1, 2, 0).reshape(-1, 2)\n",
    "\n",
    "probs = clf.predict_proba(features.transform(x_test))\n",
    "Probs = probs.reshape(100, 100)\n",
    "\n",
    "dists = clf.predict_dist(features.transform(x_test))\n",
    "Dists = dists.reshape(100, 100)\n",
    "\n",
    "levels = np.linspace(0, 1, 5)\n",
    "cp = plt.contour(X_test, Y_test, Probs, levels, colors='k', linestyles=\"dashed\")\n",
    "plt.clabel(cp, inline=True, fontsize=10)\n",
    "\n",
    "plt.contourf(X_test, Y_test, Dists, levels, cmap=\"spring\", alpha=0.6)\n",
    "plt.colorbar()\n",
    "plt.xlim(-2, 4)\n",
    "plt.ylim(-2, 4)\n",
    "colors = ['blue', 'red']\n",
    "plt.scatter(X[:, 0], X[:, 1], c=[colors[int(label)] for label in t])\n",
    "\n",
    "dists"
   ]
  },
  {
   "cell_type": "code",
   "execution_count": 7,
   "metadata": {},
   "outputs": [
    {
     "data": {
      "text/plain": [
       "(50, 10)"
      ]
     },
     "execution_count": 7,
     "metadata": {},
     "output_type": "execute_result"
    }
   ],
   "source": [
    "features.fit_transform(X).shape"
   ]
  },
  {
   "cell_type": "code",
   "execution_count": 8,
   "metadata": {},
   "outputs": [
    {
     "data": {
      "text/plain": [
       "array([[1., 0., 0., 0., 0., 0., 0., 0., 0., 0.],\n",
       "       [0., 1., 0., 0., 0., 0., 0., 0., 0., 0.],\n",
       "       [0., 0., 1., 0., 0., 0., 0., 0., 0., 0.],\n",
       "       [0., 0., 0., 1., 0., 0., 0., 0., 0., 0.],\n",
       "       [0., 0., 0., 0., 1., 0., 0., 0., 0., 0.],\n",
       "       [0., 0., 0., 0., 0., 1., 0., 0., 0., 0.],\n",
       "       [0., 0., 0., 0., 0., 0., 1., 0., 0., 0.],\n",
       "       [0., 0., 0., 0., 0., 0., 0., 1., 0., 0.],\n",
       "       [0., 0., 0., 0., 0., 0., 0., 0., 1., 0.],\n",
       "       [0., 0., 0., 0., 0., 0., 0., 0., 0., 1.]])"
      ]
     },
     "execution_count": 8,
     "metadata": {},
     "output_type": "execute_result"
    }
   ],
   "source": [
    "np.linalg.inv(np.eye(10))"
   ]
  },
  {
   "cell_type": "code",
   "execution_count": null,
   "metadata": {},
   "outputs": [],
   "source": []
  },
  {
   "cell_type": "code",
   "execution_count": null,
   "metadata": {},
   "outputs": [],
   "source": []
  }
 ],
 "metadata": {
  "kernelspec": {
   "display_name": "Python 3.7.4 64-bit",
   "language": "python",
   "name": "python37464bitc32ce4a03cda47aa907d3f777079e78b"
  },
  "language_info": {
   "codemirror_mode": {
    "name": "ipython",
    "version": 3
   },
   "file_extension": ".py",
   "mimetype": "text/x-python",
   "name": "python",
   "nbconvert_exporter": "python",
   "pygments_lexer": "ipython3",
   "version": "3.7.4"
  }
 },
 "nbformat": 4,
 "nbformat_minor": 4
}
