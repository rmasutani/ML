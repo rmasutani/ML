{
 "cells": [
  {
   "cell_type": "code",
   "execution_count": 11,
   "metadata": {},
   "outputs": [],
   "source": [
    "import numpy as np\n",
    "import matplotlib.pyplot as plt\n",
    "from sklearn.utils import shuffle\n"
   ]
  },
  {
   "cell_type": "code",
   "execution_count": 12,
   "metadata": {},
   "outputs": [],
   "source": [
    "# Generate data \n",
    "np.random.seed(0)\n",
    "\n",
    "N = 250\n",
    "D = 2\n",
    "mean = np.array([[1, 2.5], [0, -2.5]])\n",
    "cov = [[1.0, -0.7], [-0.7, 1.0]]\n",
    "X = np.zeros(shape=(2, N))\n",
    "t = np.zeros([1, N])\n",
    "\n",
    "for i in range(N):\n",
    "    _label = np.random.randint(2) # Generate -1, 1 label randomly\n",
    "    label = 2 * _label - 1\n",
    "    t[:, i] = label \n",
    "    X[:, i] = np.random.multivariate_normal(mean[_label], cov)\n",
    "\n",
    "# Add bias\n",
    "X = np.vstack([np.ones(N), X])\n",
    "X[:, 0]\n",
    "w = np.random.uniform(-1, 1, D+1)\n",
    "Eta = 1"
   ]
  },
  {
   "cell_type": "code",
   "execution_count": 13,
   "metadata": {},
   "outputs": [],
   "source": [
    "# Step function\n",
    "def f(w, x):\n",
    "    print(w.shape, x.shape)\n",
    "    if np.dot(w.T, x) >= 0:\n",
    "        return 1\n",
    "    else:\n",
    "        return -1"
   ]
  },
  {
   "cell_type": "code",
   "execution_count": 14,
   "metadata": {},
   "outputs": [
    {
     "data": {
      "image/png": "[encoded data removed]",
      "text/plain": [
       "<Figure size 432x288 with 1 Axes>"
      ]
     },
     "metadata": {
      "needs_background": "light"
     },
     "output_type": "display_data"
    }
   ],
   "source": [
    "\n",
    "\n",
    "# Stochastic gradient descent\n",
    "while True:\n",
    "    index = np.random.permutation(np.arange(0, N))\n",
    "    \n",
    "    flag = True\n",
    "    \n",
    "    for i in range(N):\n",
    "        if t[:, index[i]] * np.dot(w.T, X[:, index[i]]) < 0:\n",
    "            w = w + Eta * X[:, index[i]] * t[:, index[i]]\n",
    "            flag = False\n",
    "    \n",
    "    if flag:\n",
    "        break\n",
    "\n",
    "w\n",
    "x_graph = np.linspace(-5, 5, 2)\n",
    "y_graph = (-w[1] * x_graph - w[0]) / w[2]\n",
    "plt.plot(x_graph, y_graph, color=\"black\")\n",
    "\n",
    "plt.scatter(X[1, np.where(t==1)], X[2, np.where(t==1)], color=\"blue\", alpha=0.5)\n",
    "plt.scatter(X[1, np.where(t==-1)], X[2, np.where(t==-1)], color=\"red\", alpha=0.5)\n",
    "plt.show()"
   ]
  },
  {
   "cell_type": "code",
   "execution_count": 15,
   "metadata": {},
   "outputs": [
    {
     "data": {
      "text/plain": [
       "array([ 0.15071814, -0.50919315, -1.75824978])"
      ]
     },
     "execution_count": 15,
     "metadata": {},
     "output_type": "execute_result"
    }
   ],
   "source": [
    "w"
   ]
  },
  {
   "cell_type": "code",
   "execution_count": null,
   "metadata": {},
   "outputs": [],
   "source": []
  },
  {
   "cell_type": "code",
   "execution_count": null,
   "metadata": {},
   "outputs": [],
   "source": []
  }
 ],
 "metadata": {
  "kernelspec": {
   "display_name": "Python 3.7.4 64-bit",
   "language": "python",
   "name": "python37464bitc32ce4a03cda47aa907d3f777079e78b"
  },
  "language_info": {
   "codemirror_mode": {
    "name": "ipython",
    "version": 3
   },
   "file_extension": ".py",
   "mimetype": "text/x-python",
   "name": "python",
   "nbconvert_exporter": "python",
   "pygments_lexer": "ipython3",
   "version": "3.7.4"
  }
 },
 "nbformat": 4,
 "nbformat_minor": 4
}
