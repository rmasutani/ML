{
 "cells": [
  {
   "cell_type": "code",
   "execution_count": null,
   "metadata": {},
   "outputs": [],
   "source": [
    "import os\n",
    "\n",
    "from IPython.display import set_matplotlib_formats\n",
    "import jax.numpy as np\n",
    "from jax import random, vmap\n",
    "from jax.scipy.special import logsumexp\n",
    "import matplotlib.pyplot as plt\n",
    "import numpy as onp\n",
    "import pandas as pd\n",
    "import seaborn as sns\n",
    "\n",
    "import numpyro\n",
    "from numpyro.diagnostics import hpdi\n",
    "import numpyro.distributions as dist\n",
    "from numpyro import handlers\n",
    "from numpyro.infer import MCMC, NUTS\n",
    "\n",
    "plt.style.use('bmh')\n",
    "if \"NUMPYRO_SPHINXBUILD\" in os.environ:\n",
    "    set_matplotlib_formats('svg')\n",
    "\n",
    "assert numpyro.__version__.startswith('0.2.4')"
   ]
  },
  {
   "cell_type": "code",
   "execution_count": null,
   "metadata": {},
   "outputs": [],
   "source": [
    "DATASET_URL = 'https://raw.githubusercontent.com/rmcelreath/rethinking/master/data/WaffleDivorce.csv'\n",
    "dset = pd.read_csv(DATASET_URL, sep=';')\n",
    "dset"
   ]
  },
  {
   "cell_type": "code",
   "execution_count": null,
   "metadata": {},
   "outputs": [],
   "source": [
    "vars = [\"Population\", \"MedianAgeMarriage\", \"Marriage\", \"WaffleHouses\", \"South\", \"Divorce\"]\n",
    "sns.pairplot(dset, x_vars=vars, y_vars=vars, palette=\"husl\")\n",
    "\n",
    "sns.regplot(\"WaffleHouses\", \"Divorce\", dset);\n"
   ]
  },
  {
   "cell_type": "code",
   "execution_count": null,
   "metadata": {},
   "outputs": [],
   "source": [
    "standardize = lambda x: (x - x.mean()) / x.std()\n",
    "    \n",
    "dset[\"AgeScaled\"] = dset.MedianAgeMarriage.pipe(standardize)\n",
    "dset['MarriageScaled'] = dset.Marriage.pipe(standardize)\n",
    "dset['DivorceScaled'] = dset.Divorce.pipe(standardize)\n"
   ]
  },
  {
   "cell_type": "code",
   "execution_count": null,
   "metadata": {},
   "outputs": [],
   "source": [
    "def model(marriage=None, age=None, divorce=None):\n",
    "    a = numpyro.sample(\"A\", dist.Normal(0., 0.2))\n",
    "    M, A = 0., 0.\n",
    "    \n",
    "    if marriage is not None:\n",
    "        bM = numpyro.sample(\"bM\", dist.Normal(0., 0.5))\n",
    "        M = bM * marriage\n",
    "    if age is not None:\n",
    "        bA = numpyro.sample(\"bA\", dist.Normal(0., 0.5))\n",
    "        A = bA * age\n",
    "    sigma = numpyro.sample(\"sigma\", dist.Exponential(1.))\n",
    "    mu = a + M + A\n",
    "    numpyro.sample(\"obs\", dist.Normal(mu, sigma), obs=divorce)\n",
    "\n"
   ]
  },
  {
   "cell_type": "code",
   "execution_count": null,
   "metadata": {},
   "outputs": [],
   "source": [
    "rng_key = random.PRNGKey(0)\n",
    "rng_key, rng_key_ = random.split(rng_key)\n",
    "\n",
    "num_warmup, num_samples = 1000, 2000\n",
    "\n",
    "# Run NUTS\n",
    "kernel = NUTS(model)\n",
    "mcmc = MCMC(kernel, num_warmup, num_samples)\n",
    "mcmc.run(rng_key_, marriage=dset.MarriageScaled.values, divorce=dset.DivorceScaled.values)\n",
    "mcmc.print_summary()\n",
    "samples_1 = mcmc.get_samples()"
   ]
  },
  {
   "cell_type": "code",
   "execution_count": null,
   "metadata": {},
   "outputs": [],
   "source": [
    "def plot_regression(x, y_mean, y_hpdi):\n",
    "    idx = np.argsort(x)\n",
    "    marriage = x[idx]\n",
    "    mean = y_mean[idx]\n",
    "    hpdi = y_hpdi[:, idx]\n",
    "    divorce = dset.DivorceScaled.values[idx]\n",
    "    \n",
    "    # Plot\n",
    "    fig, ax = plt.subplots(nrows=1, ncols=1, figsize=(6, 6))\n",
    "    ax.plot(marriage, mean)\n",
    "    ax.plot(marriage, divorce, \"o\")\n",
    "    ax.fill_between(marriage, hpdi[0], hpdi[1], alpha=0.3, interpolate=True)\n",
    "    return ax\n",
    "\n",
    "posterior_mu = np.expand_dims(samples_1[\"A\"], -1) + \\\n",
    "               np.expand_dims(samples_1['bM'], -1) * dset.MarriageScaled.values\n",
    "\n",
    "mean_mu = np.mean(posterior_mu, axis=0)\n",
    "hpdi_mu = hpdi(posterior_mu, 0.9)\n",
    "ax = plot_regression(dset.MarriageScaled.values, mean_mu, hpdi_mu)\n",
    "ax.set(xlabel=\"Marriage rate\", ylabel=\"Divorce rate\", title=\"Regression line with 90% CI\")"
   ]
  },
  {
   "cell_type": "code",
   "execution_count": null,
   "metadata": {},
   "outputs": [],
   "source": []
  },
  {
   "cell_type": "code",
   "execution_count": null,
   "metadata": {},
   "outputs": [],
   "source": []
  },
  {
   "cell_type": "code",
   "execution_count": null,
   "metadata": {},
   "outputs": [],
   "source": []
  },
  {
   "cell_type": "code",
   "execution_count": null,
   "metadata": {},
   "outputs": [],
   "source": []
  },
  {
   "cell_type": "code",
   "execution_count": null,
   "metadata": {},
   "outputs": [],
   "source": []
  }
 ],
 "metadata": {
  "language_info": {
   "codemirror_mode": {
    "name": "ipython",
    "version": 3
   },
   "file_extension": ".py",
   "mimetype": "text/x-python",
   "name": "python",
   "nbconvert_exporter": "python",
   "pygments_lexer": "ipython3",
   "version": 3
  },
  "orig_nbformat": 2
 },
 "nbformat": 4,
 "nbformat_minor": 2
}