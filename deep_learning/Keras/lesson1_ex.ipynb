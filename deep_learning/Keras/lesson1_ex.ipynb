{
 "cells": [
  {
   "cell_type": "code",
   "execution_count": 1,
   "metadata": {
    "colab": {
     "base_uri": "https://localhost:8080/",
     "height": 51
    },
    "colab_type": "code",
    "executionInfo": {
     "elapsed": 2961,
     "status": "ok",
     "timestamp": 1589296452983,
     "user": {
      "displayName": "Ryo Masutani",
      "photoUrl": "https://lh3.googleusercontent.com/a-/AOh14GgY7iZKiiZWfep00KL94TKZD9Rru4Cnh7tCECJg=s64",
      "userId": "02846534555369252135"
     },
     "user_tz": -540
    },
    "id": "dtorQA-2chpw",
    "outputId": "91908d0d-b64e-4be0-a40e-61b3dcc6d0ff"
   },
   "outputs": [
    {
     "name": "stdout",
     "output_type": "stream",
     "text": [
      "Downloading data from https://storage.googleapis.com/tensorflow/tf-keras-datasets/mnist.npz\n",
      "11493376/11490434 [==============================] - 0s 0us/step\n"
     ]
    }
   ],
   "source": [
    "from tensorflow.keras.datasets import mnist\n",
    "\n",
    "(x_train, y_train), (x_test, y_test)  = mnist.load_data()"
   ]
  },
  {
   "cell_type": "code",
   "execution_count": null,
   "metadata": {},
   "outputs": [],
   "source": []
  },
  {
   "cell_type": "code",
   "execution_count": 3,
   "metadata": {
    "colab": {
     "base_uri": "https://localhost:8080/",
     "height": 119
    },
    "colab_type": "code",
    "executionInfo": {
     "elapsed": 987,
     "status": "ok",
     "timestamp": 1589296573553,
     "user": {
      "displayName": "Ryo Masutani",
      "photoUrl": "https://lh3.googleusercontent.com/a-/AOh14GgY7iZKiiZWfep00KL94TKZD9Rru4Cnh7tCECJg=s64",
      "userId": "02846534555369252135"
     },
     "user_tz": -540
    },
    "id": "X3xT2Qt1czAa",
    "outputId": "bf2fe597-76ba-4d46-cd19-f896ae7e415b"
   },
   "outputs": [
    {
     "data": {
      "image/png": "[encoded data removed]",
      "text/plain": [
       "<Figure size 648x1080 with 9 Axes>"
      ]
     },
     "metadata": {
      "tags": []
     },
     "output_type": "display_data"
    }
   ],
   "source": [
    "%matplotlib inline\n",
    "import matplotlib.pyplot as plt\n",
    "\n",
    "fig = plt.figure(figsize=(9, 15))\n",
    "fig.subplots_adjust(left=0, right=1, bottom=0, top=0.5, hspace=0.05, wspace=0.05)\n",
    "\n",
    "for i in range(9):\n",
    "  ax = fig.add_subplot(1, 9, i+1, xticks=[], yticks=[])\n",
    "  ax.set_title(str(y_train[i]))\n",
    "  ax.imshow(x_train[i], cmap=\"gray\")"
   ]
  },
  {
   "cell_type": "code",
   "execution_count": null,
   "metadata": {
    "colab": {},
    "colab_type": "code",
    "id": "IUYy_sEsdQtf"
   },
   "outputs": [],
   "source": [
    "from tensorflow.keras.utils import to_categorical\n",
    "\n",
    "x_train = x_train.reshape(-1, 784)\n",
    "x_test = x_test.reshape(-1, 784)\n",
    "\n",
    "y_train = to_categorical(y_train)\n",
    "y_test = to_categorical(y_test)"
   ]
  },
  {
   "cell_type": "code",
   "execution_count": null,
   "metadata": {
    "colab": {},
    "colab_type": "code",
    "id": "EecWqCL8dj9Y"
   },
   "outputs": [],
   "source": [
    "from tensorflow.keras.models import Sequential\n",
    "from tensorflow.keras.layers import Dense, Activation\n",
    "\n",
    "model = Sequential()\n",
    "\n",
    "model.add(Dense(units=256, input_shape=(784,)))\n",
    "model.add(Activation(\"relu\"))\n",
    "model.add(Dense(units=100))\n",
    "model.add(Activation(\"relu\"))\n",
    "model.add(Dense(units=10))\n",
    "model.add(Activation(\"softmax\"))\n",
    "\n",
    "model.compile(loss=\"categorical_crossentropy\", \n",
    "              optimizer=\"sgd\", \n",
    "              metrics=[\"accuracy\"])"
   ]
  },
  {
   "cell_type": "code",
   "execution_count": 7,
   "metadata": {
    "colab": {
     "base_uri": "https://localhost:8080/",
     "height": 394
    },
    "colab_type": "code",
    "executionInfo": {
     "elapsed": 16775,
     "status": "ok",
     "timestamp": 1589297079732,
     "user": {
      "displayName": "Ryo Masutani",
      "photoUrl": "https://lh3.googleusercontent.com/a-/AOh14GgY7iZKiiZWfep00KL94TKZD9Rru4Cnh7tCECJg=s64",
      "userId": "02846534555369252135"
     },
     "user_tz": -540
    },
    "id": "S_JOoHh6eJWl",
    "outputId": "c811781e-f351-4222-8da2-1af25fb7ece9"
   },
   "outputs": [
    {
     "name": "stdout",
     "output_type": "stream",
     "text": [
      "Epoch 1/10\n",
      "60/60 [==============================] - 2s 27ms/step - loss: 533824700416.0000 - accuracy: 0.1013 - val_loss: 3.0830 - val_accuracy: 0.1136\n",
      "Epoch 2/10\n",
      "60/60 [==============================] - 1s 24ms/step - loss: 2.3029 - accuracy: 0.1124 - val_loss: 3.0759 - val_accuracy: 0.1136\n",
      "Epoch 3/10\n",
      "60/60 [==============================] - 1s 25ms/step - loss: 2.3020 - accuracy: 0.1124 - val_loss: 3.0758 - val_accuracy: 0.1136\n",
      "Epoch 4/10\n",
      "60/60 [==============================] - 1s 24ms/step - loss: 2.3019 - accuracy: 0.1124 - val_loss: 3.0757 - val_accuracy: 0.1136\n",
      "Epoch 5/10\n",
      "60/60 [==============================] - 1s 24ms/step - loss: 2.3018 - accuracy: 0.1124 - val_loss: 3.0756 - val_accuracy: 0.1136\n",
      "Epoch 6/10\n",
      "60/60 [==============================] - 1s 24ms/step - loss: 2.3017 - accuracy: 0.1124 - val_loss: 3.0755 - val_accuracy: 0.1136\n",
      "Epoch 7/10\n",
      "60/60 [==============================] - 1s 25ms/step - loss: 2.3017 - accuracy: 0.1124 - val_loss: 3.0754 - val_accuracy: 0.1136\n",
      "Epoch 8/10\n",
      "60/60 [==============================] - 1s 24ms/step - loss: 2.3016 - accuracy: 0.1124 - val_loss: 3.0754 - val_accuracy: 0.1136\n",
      "Epoch 9/10\n",
      "60/60 [==============================] - 1s 24ms/step - loss: 2.3015 - accuracy: 0.1124 - val_loss: 3.0753 - val_accuracy: 0.1136\n",
      "Epoch 10/10\n",
      "60/60 [==============================] - 1s 25ms/step - loss: 2.3015 - accuracy: 0.1124 - val_loss: 3.0753 - val_accuracy: 0.1136\n"
     ]
    },
    {
     "data": {
      "text/plain": [
       "<tensorflow.python.keras.callbacks.History at 0x7f9e7b3cf940>"
      ]
     },
     "execution_count": 7,
     "metadata": {
      "tags": []
     },
     "output_type": "execute_result"
    }
   ],
   "source": [
    "model.fit(x_train, y_train, \n",
    "          batch_size=1000, epochs=10, verbose=1,\n",
    "          validation_data=(x_test, y_test))"
   ]
  },
  {
   "cell_type": "code",
   "execution_count": 8,
   "metadata": {
    "colab": {
     "base_uri": "https://localhost:8080/",
     "height": 51
    },
    "colab_type": "code",
    "executionInfo": {
     "elapsed": 1304,
     "status": "ok",
     "timestamp": 1589297144402,
     "user": {
      "displayName": "Ryo Masutani",
      "photoUrl": "https://lh3.googleusercontent.com/a-/AOh14GgY7iZKiiZWfep00KL94TKZD9Rru4Cnh7tCECJg=s64",
      "userId": "02846534555369252135"
     },
     "user_tz": -540
    },
    "id": "sjC8I8v6fKP0",
    "outputId": "cdf954f8-7f06-4662-a8ef-7169ce11ba53"
   },
   "outputs": [
    {
     "name": "stdout",
     "output_type": "stream",
     "text": [
      "test loss:  3.075282573699951\n",
      "test accuracy:  0.1136000007390976\n"
     ]
    }
   ],
   "source": [
    "score = model.evaluate(x_test, y_test, verbose=0)\n",
    "print(\"test loss: \", score[0])\n",
    "print(\"test accuracy: \", score[1])"
   ]
  },
  {
   "cell_type": "code",
   "execution_count": null,
   "metadata": {
    "colab": {},
    "colab_type": "code",
    "id": "AySCngbHfd0Q"
   },
   "outputs": [],
   "source": [
    "classes = model.predict(x_test, batch_size=128)"
   ]
  },
  {
   "cell_type": "code",
   "execution_count": 10,
   "metadata": {
    "colab": {
     "base_uri": "https://localhost:8080/",
     "height": 34
    },
    "colab_type": "code",
    "executionInfo": {
     "elapsed": 1742,
     "status": "ok",
     "timestamp": 1589297193968,
     "user": {
      "displayName": "Ryo Masutani",
      "photoUrl": "https://lh3.googleusercontent.com/a-/AOh14GgY7iZKiiZWfep00KL94TKZD9Rru4Cnh7tCECJg=s64",
      "userId": "02846534555369252135"
     },
     "user_tz": -540
    },
    "id": "tdDaldfhflf-",
    "outputId": "c0a13e7d-d95b-4c93-8578-56ce12f35bec"
   },
   "outputs": [
    {
     "data": {
      "text/plain": [
       "numpy.ndarray"
      ]
     },
     "execution_count": 10,
     "metadata": {
      "tags": []
     },
     "output_type": "execute_result"
    }
   ],
   "source": [
    "type(classes)"
   ]
  },
  {
   "cell_type": "code",
   "execution_count": 12,
   "metadata": {
    "colab": {
     "base_uri": "https://localhost:8080/",
     "height": 68
    },
    "colab_type": "code",
    "executionInfo": {
     "elapsed": 1700,
     "status": "ok",
     "timestamp": 1589297219360,
     "user": {
      "displayName": "Ryo Masutani",
      "photoUrl": "https://lh3.googleusercontent.com/a-/AOh14GgY7iZKiiZWfep00KL94TKZD9Rru4Cnh7tCECJg=s64",
      "userId": "02846534555369252135"
     },
     "user_tz": -540
    },
    "id": "vWQ42yDVfpo2",
    "outputId": "2ae6fd78-22bb-43f2-ba9b-595875bc70a7"
   },
   "outputs": [
    {
     "data": {
      "text/plain": [
       "array([0.09777522, 0.10845164, 0.0984571 , 0.10220844, 0.09804174,\n",
       "       0.09649948, 0.09545061, 0.1044406 , 0.09939615, 0.09927907],\n",
       "      dtype=float32)"
      ]
     },
     "execution_count": 12,
     "metadata": {
      "tags": []
     },
     "output_type": "execute_result"
    }
   ],
   "source": [
    "classes[0]"
   ]
  },
  {
   "cell_type": "code",
   "execution_count": 14,
   "metadata": {
    "colab": {
     "base_uri": "https://localhost:8080/",
     "height": 1000
    },
    "colab_type": "code",
    "executionInfo": {
     "elapsed": 870,
     "status": "ok",
     "timestamp": 1589297249775,
     "user": {
      "displayName": "Ryo Masutani",
      "photoUrl": "https://lh3.googleusercontent.com/a-/AOh14GgY7iZKiiZWfep00KL94TKZD9Rru4Cnh7tCECJg=s64",
      "userId": "02846534555369252135"
     },
     "user_tz": -540
    },
    "id": "eAf_QUWxfryq",
    "outputId": "db97fcb9-95b9-42ae-c88e-cc7b1b7aa0ab"
   },
   "outputs": [
    {
     "data": {
      "image/svg+xml": [
       "<svg height=\"737pt\" viewBox=\"0.00 0.00 295.00 553.00\" width=\"393pt\" xmlns=\"http://www.w3.org/2000/svg\" xmlns:xlink=\"http://www.w3.org/1999/xlink\">\n",
       "<g class=\"graph\" id=\"graph0\" transform=\"scale(1.3333 1.3333) rotate(0) translate(4 549)\">\n",
       "<title>G</title>\n",
       "<polygon fill=\"#ffffff\" points=\"-4,4 -4,-549 291,-549 291,4 -4,4\" stroke=\"transparent\"/>\n",
       "<!-- 140318705008200 -->\n",
       "<g class=\"node\" id=\"node1\">\n",
       "<title>140318705008200</title>\n",
       "<polygon fill=\"none\" points=\"0,-498.5 0,-544.5 287,-544.5 287,-498.5 0,-498.5\" stroke=\"#000000\"/>\n",
       "<text fill=\"#000000\" font-family=\"Times,serif\" font-size=\"14.00\" text-anchor=\"middle\" x=\"79\" y=\"-517.8\">dense_input: InputLayer</text>\n",
       "<polyline fill=\"none\" points=\"158,-498.5 158,-544.5 \" stroke=\"#000000\"/>\n",
       "<text fill=\"#000000\" font-family=\"Times,serif\" font-size=\"14.00\" text-anchor=\"middle\" x=\"187\" y=\"-529.3\">input:</text>\n",
       "<polyline fill=\"none\" points=\"158,-521.5 216,-521.5 \" stroke=\"#000000\"/>\n",
       "<text fill=\"#000000\" font-family=\"Times,serif\" font-size=\"14.00\" text-anchor=\"middle\" x=\"187\" y=\"-506.3\">output:</text>\n",
       "<polyline fill=\"none\" points=\"216,-498.5 216,-544.5 \" stroke=\"#000000\"/>\n",
       "<text fill=\"#000000\" font-family=\"Times,serif\" font-size=\"14.00\" text-anchor=\"middle\" x=\"251.5\" y=\"-529.3\">[(?, 784)]</text>\n",
       "<polyline fill=\"none\" points=\"216,-521.5 287,-521.5 \" stroke=\"#000000\"/>\n",
       "<text fill=\"#000000\" font-family=\"Times,serif\" font-size=\"14.00\" text-anchor=\"middle\" x=\"251.5\" y=\"-506.3\">[(?, 784)]</text>\n",
       "</g>\n",
       "<!-- 140318695415992 -->\n",
       "<g class=\"node\" id=\"node2\">\n",
       "<title>140318695415992</title>\n",
       "<polygon fill=\"none\" points=\"37.5,-415.5 37.5,-461.5 249.5,-461.5 249.5,-415.5 37.5,-415.5\" stroke=\"#000000\"/>\n",
       "<text fill=\"#000000\" font-family=\"Times,serif\" font-size=\"14.00\" text-anchor=\"middle\" x=\"83.5\" y=\"-434.8\">dense: Dense</text>\n",
       "<polyline fill=\"none\" points=\"129.5,-415.5 129.5,-461.5 \" stroke=\"#000000\"/>\n",
       "<text fill=\"#000000\" font-family=\"Times,serif\" font-size=\"14.00\" text-anchor=\"middle\" x=\"158.5\" y=\"-446.3\">input:</text>\n",
       "<polyline fill=\"none\" points=\"129.5,-438.5 187.5,-438.5 \" stroke=\"#000000\"/>\n",
       "<text fill=\"#000000\" font-family=\"Times,serif\" font-size=\"14.00\" text-anchor=\"middle\" x=\"158.5\" y=\"-423.3\">output:</text>\n",
       "<polyline fill=\"none\" points=\"187.5,-415.5 187.5,-461.5 \" stroke=\"#000000\"/>\n",
       "<text fill=\"#000000\" font-family=\"Times,serif\" font-size=\"14.00\" text-anchor=\"middle\" x=\"218.5\" y=\"-446.3\">(?, 784)</text>\n",
       "<polyline fill=\"none\" points=\"187.5,-438.5 249.5,-438.5 \" stroke=\"#000000\"/>\n",
       "<text fill=\"#000000\" font-family=\"Times,serif\" font-size=\"14.00\" text-anchor=\"middle\" x=\"218.5\" y=\"-423.3\">(?, 256)</text>\n",
       "</g>\n",
       "<!-- 140318705008200&#45;&gt;140318695415992 -->\n",
       "<g class=\"edge\" id=\"edge1\">\n",
       "<title>140318705008200-&gt;140318695415992</title>\n",
       "<path d=\"M143.5,-498.3799C143.5,-490.1745 143.5,-480.7679 143.5,-471.8786\" fill=\"none\" stroke=\"#000000\"/>\n",
       "<polygon fill=\"#000000\" points=\"147.0001,-471.784 143.5,-461.784 140.0001,-471.784 147.0001,-471.784\" stroke=\"#000000\"/>\n",
       "</g>\n",
       "<!-- 140318695264096 -->\n",
       "<g class=\"node\" id=\"node3\">\n",
       "<title>140318695264096</title>\n",
       "<polygon fill=\"none\" points=\"14,-332.5 14,-378.5 273,-378.5 273,-332.5 14,-332.5\" stroke=\"#000000\"/>\n",
       "<text fill=\"#000000\" font-family=\"Times,serif\" font-size=\"14.00\" text-anchor=\"middle\" x=\"83.5\" y=\"-351.8\">activation: Activation</text>\n",
       "<polyline fill=\"none\" points=\"153,-332.5 153,-378.5 \" stroke=\"#000000\"/>\n",
       "<text fill=\"#000000\" font-family=\"Times,serif\" font-size=\"14.00\" text-anchor=\"middle\" x=\"182\" y=\"-363.3\">input:</text>\n",
       "<polyline fill=\"none\" points=\"153,-355.5 211,-355.5 \" stroke=\"#000000\"/>\n",
       "<text fill=\"#000000\" font-family=\"Times,serif\" font-size=\"14.00\" text-anchor=\"middle\" x=\"182\" y=\"-340.3\">output:</text>\n",
       "<polyline fill=\"none\" points=\"211,-332.5 211,-378.5 \" stroke=\"#000000\"/>\n",
       "<text fill=\"#000000\" font-family=\"Times,serif\" font-size=\"14.00\" text-anchor=\"middle\" x=\"242\" y=\"-363.3\">(?, 256)</text>\n",
       "<polyline fill=\"none\" points=\"211,-355.5 273,-355.5 \" stroke=\"#000000\"/>\n",
       "<text fill=\"#000000\" font-family=\"Times,serif\" font-size=\"14.00\" text-anchor=\"middle\" x=\"242\" y=\"-340.3\">(?, 256)</text>\n",
       "</g>\n",
       "<!-- 140318695415992&#45;&gt;140318695264096 -->\n",
       "<g class=\"edge\" id=\"edge2\">\n",
       "<title>140318695415992-&gt;140318695264096</title>\n",
       "<path d=\"M143.5,-415.3799C143.5,-407.1745 143.5,-397.7679 143.5,-388.8786\" fill=\"none\" stroke=\"#000000\"/>\n",
       "<polygon fill=\"#000000\" points=\"147.0001,-388.784 143.5,-378.784 140.0001,-388.784 147.0001,-388.784\" stroke=\"#000000\"/>\n",
       "</g>\n",
       "<!-- 140319754713128 -->\n",
       "<g class=\"node\" id=\"node4\">\n",
       "<title>140319754713128</title>\n",
       "<polygon fill=\"none\" points=\"30,-249.5 30,-295.5 257,-295.5 257,-249.5 30,-249.5\" stroke=\"#000000\"/>\n",
       "<text fill=\"#000000\" font-family=\"Times,serif\" font-size=\"14.00\" text-anchor=\"middle\" x=\"83.5\" y=\"-268.8\">dense_1: Dense</text>\n",
       "<polyline fill=\"none\" points=\"137,-249.5 137,-295.5 \" stroke=\"#000000\"/>\n",
       "<text fill=\"#000000\" font-family=\"Times,serif\" font-size=\"14.00\" text-anchor=\"middle\" x=\"166\" y=\"-280.3\">input:</text>\n",
       "<polyline fill=\"none\" points=\"137,-272.5 195,-272.5 \" stroke=\"#000000\"/>\n",
       "<text fill=\"#000000\" font-family=\"Times,serif\" font-size=\"14.00\" text-anchor=\"middle\" x=\"166\" y=\"-257.3\">output:</text>\n",
       "<polyline fill=\"none\" points=\"195,-249.5 195,-295.5 \" stroke=\"#000000\"/>\n",
       "<text fill=\"#000000\" font-family=\"Times,serif\" font-size=\"14.00\" text-anchor=\"middle\" x=\"226\" y=\"-280.3\">(?, 256)</text>\n",
       "<polyline fill=\"none\" points=\"195,-272.5 257,-272.5 \" stroke=\"#000000\"/>\n",
       "<text fill=\"#000000\" font-family=\"Times,serif\" font-size=\"14.00\" text-anchor=\"middle\" x=\"226\" y=\"-257.3\">(?, 100)</text>\n",
       "</g>\n",
       "<!-- 140318695264096&#45;&gt;140319754713128 -->\n",
       "<g class=\"edge\" id=\"edge3\">\n",
       "<title>140318695264096-&gt;140319754713128</title>\n",
       "<path d=\"M143.5,-332.3799C143.5,-324.1745 143.5,-314.7679 143.5,-305.8786\" fill=\"none\" stroke=\"#000000\"/>\n",
       "<polygon fill=\"#000000\" points=\"147.0001,-305.784 143.5,-295.784 140.0001,-305.784 147.0001,-305.784\" stroke=\"#000000\"/>\n",
       "</g>\n",
       "<!-- 140318695301920 -->\n",
       "<g class=\"node\" id=\"node5\">\n",
       "<title>140318695301920</title>\n",
       "<polygon fill=\"none\" points=\"6.5,-166.5 6.5,-212.5 280.5,-212.5 280.5,-166.5 6.5,-166.5\" stroke=\"#000000\"/>\n",
       "<text fill=\"#000000\" font-family=\"Times,serif\" font-size=\"14.00\" text-anchor=\"middle\" x=\"83.5\" y=\"-185.8\">activation_1: Activation</text>\n",
       "<polyline fill=\"none\" points=\"160.5,-166.5 160.5,-212.5 \" stroke=\"#000000\"/>\n",
       "<text fill=\"#000000\" font-family=\"Times,serif\" font-size=\"14.00\" text-anchor=\"middle\" x=\"189.5\" y=\"-197.3\">input:</text>\n",
       "<polyline fill=\"none\" points=\"160.5,-189.5 218.5,-189.5 \" stroke=\"#000000\"/>\n",
       "<text fill=\"#000000\" font-family=\"Times,serif\" font-size=\"14.00\" text-anchor=\"middle\" x=\"189.5\" y=\"-174.3\">output:</text>\n",
       "<polyline fill=\"none\" points=\"218.5,-166.5 218.5,-212.5 \" stroke=\"#000000\"/>\n",
       "<text fill=\"#000000\" font-family=\"Times,serif\" font-size=\"14.00\" text-anchor=\"middle\" x=\"249.5\" y=\"-197.3\">(?, 100)</text>\n",
       "<polyline fill=\"none\" points=\"218.5,-189.5 280.5,-189.5 \" stroke=\"#000000\"/>\n",
       "<text fill=\"#000000\" font-family=\"Times,serif\" font-size=\"14.00\" text-anchor=\"middle\" x=\"249.5\" y=\"-174.3\">(?, 100)</text>\n",
       "</g>\n",
       "<!-- 140319754713128&#45;&gt;140318695301920 -->\n",
       "<g class=\"edge\" id=\"edge4\">\n",
       "<title>140319754713128-&gt;140318695301920</title>\n",
       "<path d=\"M143.5,-249.3799C143.5,-241.1745 143.5,-231.7679 143.5,-222.8786\" fill=\"none\" stroke=\"#000000\"/>\n",
       "<polygon fill=\"#000000\" points=\"147.0001,-222.784 143.5,-212.784 140.0001,-222.784 147.0001,-222.784\" stroke=\"#000000\"/>\n",
       "</g>\n",
       "<!-- 140319754711672 -->\n",
       "<g class=\"node\" id=\"node6\">\n",
       "<title>140319754711672</title>\n",
       "<polygon fill=\"none\" points=\"30,-83.5 30,-129.5 257,-129.5 257,-83.5 30,-83.5\" stroke=\"#000000\"/>\n",
       "<text fill=\"#000000\" font-family=\"Times,serif\" font-size=\"14.00\" text-anchor=\"middle\" x=\"83.5\" y=\"-102.8\">dense_2: Dense</text>\n",
       "<polyline fill=\"none\" points=\"137,-83.5 137,-129.5 \" stroke=\"#000000\"/>\n",
       "<text fill=\"#000000\" font-family=\"Times,serif\" font-size=\"14.00\" text-anchor=\"middle\" x=\"166\" y=\"-114.3\">input:</text>\n",
       "<polyline fill=\"none\" points=\"137,-106.5 195,-106.5 \" stroke=\"#000000\"/>\n",
       "<text fill=\"#000000\" font-family=\"Times,serif\" font-size=\"14.00\" text-anchor=\"middle\" x=\"166\" y=\"-91.3\">output:</text>\n",
       "<polyline fill=\"none\" points=\"195,-83.5 195,-129.5 \" stroke=\"#000000\"/>\n",
       "<text fill=\"#000000\" font-family=\"Times,serif\" font-size=\"14.00\" text-anchor=\"middle\" x=\"226\" y=\"-114.3\">(?, 100)</text>\n",
       "<polyline fill=\"none\" points=\"195,-106.5 257,-106.5 \" stroke=\"#000000\"/>\n",
       "<text fill=\"#000000\" font-family=\"Times,serif\" font-size=\"14.00\" text-anchor=\"middle\" x=\"226\" y=\"-91.3\">(?, 10)</text>\n",
       "</g>\n",
       "<!-- 140318695301920&#45;&gt;140319754711672 -->\n",
       "<g class=\"edge\" id=\"edge5\">\n",
       "<title>140318695301920-&gt;140319754711672</title>\n",
       "<path d=\"M143.5,-166.3799C143.5,-158.1745 143.5,-148.7679 143.5,-139.8786\" fill=\"none\" stroke=\"#000000\"/>\n",
       "<polygon fill=\"#000000\" points=\"147.0001,-139.784 143.5,-129.784 140.0001,-139.784 147.0001,-139.784\" stroke=\"#000000\"/>\n",
       "</g>\n",
       "<!-- 140318695301864 -->\n",
       "<g class=\"node\" id=\"node7\">\n",
       "<title>140318695301864</title>\n",
       "<polygon fill=\"none\" points=\"10.5,-.5 10.5,-46.5 276.5,-46.5 276.5,-.5 10.5,-.5\" stroke=\"#000000\"/>\n",
       "<text fill=\"#000000\" font-family=\"Times,serif\" font-size=\"14.00\" text-anchor=\"middle\" x=\"87.5\" y=\"-19.8\">activation_2: Activation</text>\n",
       "<polyline fill=\"none\" points=\"164.5,-.5 164.5,-46.5 \" stroke=\"#000000\"/>\n",
       "<text fill=\"#000000\" font-family=\"Times,serif\" font-size=\"14.00\" text-anchor=\"middle\" x=\"193.5\" y=\"-31.3\">input:</text>\n",
       "<polyline fill=\"none\" points=\"164.5,-23.5 222.5,-23.5 \" stroke=\"#000000\"/>\n",
       "<text fill=\"#000000\" font-family=\"Times,serif\" font-size=\"14.00\" text-anchor=\"middle\" x=\"193.5\" y=\"-8.3\">output:</text>\n",
       "<polyline fill=\"none\" points=\"222.5,-.5 222.5,-46.5 \" stroke=\"#000000\"/>\n",
       "<text fill=\"#000000\" font-family=\"Times,serif\" font-size=\"14.00\" text-anchor=\"middle\" x=\"249.5\" y=\"-31.3\">(?, 10)</text>\n",
       "<polyline fill=\"none\" points=\"222.5,-23.5 276.5,-23.5 \" stroke=\"#000000\"/>\n",
       "<text fill=\"#000000\" font-family=\"Times,serif\" font-size=\"14.00\" text-anchor=\"middle\" x=\"249.5\" y=\"-8.3\">(?, 10)</text>\n",
       "</g>\n",
       "<!-- 140319754711672&#45;&gt;140318695301864 -->\n",
       "<g class=\"edge\" id=\"edge6\">\n",
       "<title>140319754711672-&gt;140318695301864</title>\n",
       "<path d=\"M143.5,-83.3799C143.5,-75.1745 143.5,-65.7679 143.5,-56.8786\" fill=\"none\" stroke=\"#000000\"/>\n",
       "<polygon fill=\"#000000\" points=\"147.0001,-56.784 143.5,-46.784 140.0001,-56.784 147.0001,-56.784\" stroke=\"#000000\"/>\n",
       "</g>\n",
       "</g>\n",
       "</svg>"
      ],
      "text/plain": [
       "<IPython.core.display.SVG object>"
      ]
     },
     "execution_count": 14,
     "metadata": {
      "tags": []
     },
     "output_type": "execute_result"
    }
   ],
   "source": [
    "from IPython.display import SVG\n",
    "from tensorflow.python.keras.utils.vis_utils import model_to_dot\n",
    "\n",
    "SVG(model_to_dot(model, show_shapes=True).create(prog='dot', format='svg'))"
   ]
  },
  {
   "cell_type": "code",
   "execution_count": 15,
   "metadata": {
    "colab": {
     "base_uri": "https://localhost:8080/",
     "height": 269
    },
    "colab_type": "code",
    "executionInfo": {
     "elapsed": 1001,
     "status": "ok",
     "timestamp": 1589297366280,
     "user": {
      "displayName": "Ryo Masutani",
      "photoUrl": "https://lh3.googleusercontent.com/a-/AOh14GgY7iZKiiZWfep00KL94TKZD9Rru4Cnh7tCECJg=s64",
      "userId": "02846534555369252135"
     },
     "user_tz": -540
    },
    "id": "8bOtF1cZf1nf",
    "outputId": "2d001cc1-ad43-48ff-f36b-a89f059a3201"
   },
   "outputs": [
    {
     "data": {
      "image/png": "[encoded data removed]",
      "text/plain": [
       "<Figure size 432x288 with 1 Axes>"
      ]
     },
     "metadata": {
      "needs_background": "light",
      "tags": []
     },
     "output_type": "display_data"
    }
   ],
   "source": [
    "%matplotlib inline\n",
    "import numpy as np\n",
    "import matplotlib.pyplot as plt\n",
    "\n",
    "def sigmoid(x):\n",
    "    return 1 / (1+np.exp(-x))\n",
    "\n",
    "def relu(x):\n",
    "    return np.maximum(0, x)\n",
    "\n",
    "def tanh(x):\n",
    "    return np.tanh(x)\n",
    "\n",
    "fig = plt.figure()\n",
    "x = np.linspace(-10, 10, 1000)\n",
    "\n",
    "ax = fig.add_subplot(111)\n",
    "ax.plot(x, sigmoid(x), label='sigmoid')\n",
    "ax.plot(x, relu(x), label='ReLU')\n",
    "ax.plot(x, tanh(x), label='tanh')\n",
    "\n",
    "plt.legend()\n",
    "plt.xlim(-5, 5)\n",
    "plt.ylim(-1.1, 2)\n",
    "plt.grid(which='major',color='gray',linestyle='-')\n",
    "plt.show()"
   ]
  },
  {
   "cell_type": "code",
   "execution_count": null,
   "metadata": {
    "colab": {},
    "colab_type": "code",
    "id": "3iX5qKxegT3M"
   },
   "outputs": [],
   "source": []
  }
 ],
 "metadata": {
  "colab": {
   "authorship_tag": "ABX9TyMN2192Mi5R//VrvB0FPLzX",
   "name": "lesson1_ex.ipynb",
   "provenance": []
  },
  "kernelspec": {
   "display_name": "Python 3",
   "language": "python",
   "name": "python3"
  },
  "language_info": {
   "codemirror_mode": {
    "name": "ipython",
    "version": 3
   },
   "file_extension": ".py",
   "mimetype": "text/x-python",
   "name": "python",
   "nbconvert_exporter": "python",
   "pygments_lexer": "ipython3",
   "version": "3.7.7"
  }
 },
 "nbformat": 4,
 "nbformat_minor": 4
}
