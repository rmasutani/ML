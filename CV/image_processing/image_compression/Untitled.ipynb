{
 "cells": [
  {
   "cell_type": "markdown",
   "metadata": {},
   "source": [
    "# Data Compression with Huffman Coding\n",
    "## Overview (encoder)\n",
    "Here's the overview of Huffman coding algorithm. In this notebook, we'll talk about the case in which we try to compress the array of integers whose length is n.\n",
    "\n",
    "- Count the frequency of each element in the given array and put the result in a python dictionary\n",
    "\n",
    "- Build Huffman Tree\n",
    "\n",
    "    - "
   ]
  },
  {
   "cell_type": "code",
   "execution_count": 18,
   "metadata": {},
   "outputs": [],
   "source": [
    "import math \n",
    "import random\n",
    "import numpy as np\n",
    "import ctypes\n",
    "import heapq"
   ]
  },
  {
   "cell_type": "code",
   "execution_count": 12,
   "metadata": {},
   "outputs": [],
   "source": [
    "### Definition of tree node \n",
    "class Node:\n",
    "    def __init__(self, freq, char):\n",
    "        self.left = None\n",
    "        self.right = None\n",
    "        self.freq = freq\n",
    "        self.char = char\n"
   ]
  },
  {
   "cell_type": "code",
   "execution_count": 13,
   "metadata": {},
   "outputs": [],
   "source": [
    "def count_freq(nums):\n",
    "    out = dict()\n",
    "    \n",
    "    for i in nums:\n",
    "        if i in out.keys():\n",
    "            out[i].freq += 1\n",
    "        else:\n",
    "            out[i] = Node(1)\n",
    "    \n",
    "    return out"
   ]
  },
  {
   "cell_type": "code",
   "execution_count": null,
   "metadata": {},
   "outputs": [],
   "source": [
    "def create_heap(d):\n",
    "    "
   ]
  },
  {
   "cell_type": "code",
   "execution_count": 17,
   "metadata": {},
   "outputs": [],
   "source": [
    "def merge_node(node1, node2):\n",
    "    combined_node = Node()\n",
    "    \n",
    "    combined_node.left = node1\n",
    "    combined_node.right = node2\n",
    "    combined_node.freq = node1.freq + node2.freq\n",
    "    \n",
    "    return combined_node"
   ]
  },
  {
   "cell_type": "code",
   "execution_count": null,
   "metadata": {},
   "outputs": [],
   "source": [
    "def build_huffman_tree(d):\n",
    "    ### base case\n",
    "    if len(d) == 1:\n",
    "        return d\n",
    "    \n",
    "    node1 = d[0][1]\n",
    "    node2 = d[1][1]\n",
    "    combined = merge_node(node1, node2)\n",
    "    \n",
    "    \n",
    "    "
   ]
  }
 ],
 "metadata": {
  "kernelspec": {
   "display_name": "Python 3.7.4 64-bit",
   "language": "python",
   "name": "python37464bitc32ce4a03cda47aa907d3f777079e78b"
  },
  "language_info": {
   "codemirror_mode": {
    "name": "ipython",
    "version": 3
   },
   "file_extension": ".py",
   "mimetype": "text/x-python",
   "name": "python",
   "nbconvert_exporter": "python",
   "pygments_lexer": "ipython3",
   "version": "3.7.4"
  }
 },
 "nbformat": 4,
 "nbformat_minor": 4
}
