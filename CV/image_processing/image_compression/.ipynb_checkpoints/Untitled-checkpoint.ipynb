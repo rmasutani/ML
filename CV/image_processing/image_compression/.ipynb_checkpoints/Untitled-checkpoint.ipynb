{
 "cells": [
  {
   "cell_type": "markdown",
   "metadata": {},
   "source": [
    "# Data Compression with Huffman Coding\n",
    "## Overview (encoder)\n",
    "Here's the overview of Huffman coding algorithm. In this notebook, we'll talk about the case in which we try to compress the array of integers whose length is n.\n",
    "\n",
    "- Count the frequency of each element in the given array and put the result in a python dictionary\n",
    "\n",
    "- Build Huffman Tree\n",
    "\n",
    "    - "
   ]
  },
  {
   "cell_type": "code",
   "execution_count": 8,
   "metadata": {},
   "outputs": [],
   "source": [
    "import math \n",
    "import random\n",
    "import numpy as np\n",
    "import ctypes"
   ]
  },
  {
   "cell_type": "code",
   "execution_count": 5,
   "metadata": {},
   "outputs": [],
   "source": [
    "### Definition of tree node \n",
    "class Node:\n",
    "    def __init__(self, data):\n",
    "        self.left = None\n",
    "        self.right = None\n",
    "        self.val = data\n"
   ]
  },
  {
   "cell_type": "code",
   "execution_count": 7,
   "metadata": {},
   "outputs": [],
   "source": [
    "def create_dict(nums):\n",
    "    out = dict()\n",
    "    \n",
    "    for i in nums:\n",
    "        if i in out.keys():\n",
    "            out[i].val += 1\n",
    "        else:\n",
    "            out[i] = Node(1)\n",
    "    \n",
    "    return out"
   ]
  },
  {
   "cell_type": "code",
   "execution_count": 10,
   "metadata": {},
   "outputs": [],
   "source": [
    "nums = np.random.randint(0, 30)"
   ]
  },
  {
   "cell_type": "markdown",
   "metadata": {},
   "source": []
  }
 ],
 "metadata": {
  "kernelspec": {
   "display_name": "Python 3.7.4 64-bit",
   "language": "python",
   "name": "python37464bitc32ce4a03cda47aa907d3f777079e78b"
  },
  "language_info": {
   "codemirror_mode": {
    "name": "ipython",
    "version": 3
   },
   "file_extension": ".py",
   "mimetype": "text/x-python",
   "name": "python",
   "nbconvert_exporter": "python",
   "pygments_lexer": "ipython3",
   "version": "3.7.4"
  }
 },
 "nbformat": 4,
 "nbformat_minor": 4
}
