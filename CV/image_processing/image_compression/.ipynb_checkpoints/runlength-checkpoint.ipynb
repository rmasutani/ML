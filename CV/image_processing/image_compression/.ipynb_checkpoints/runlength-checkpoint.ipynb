{
 "cells": [
  {
   "cell_type": "code",
   "execution_count": 1,
   "metadata": {},
   "outputs": [],
   "source": [
    "import numpy as np \n",
    "import matplotlib.pyplot as plt\n",
    "import huffman\n",
    "import keras\n",
    "from math import ceil\n",
    "import cv2"
   ]
  },
  {
   "cell_type": "code",
   "execution_count": 2,
   "metadata": {},
   "outputs": [
    {
     "data": {
      "text/plain": [
       "(60000, 28, 28)"
      ]
     },
     "execution_count": 2,
     "metadata": {},
     "output_type": "execute_result"
    }
   ],
   "source": [
    "(x_train, y_train), (x_test, y_test) = keras.datasets.fashion_mnist.load_data()\n",
    "x_train.shape"
   ]
  },
  {
   "cell_type": "code",
   "execution_count": 3,
   "metadata": {},
   "outputs": [],
   "source": [
    "def runlength_encode(data):\n",
    "    out = []\n",
    "\n",
    "    cnt = 1\n",
    "    for i in range(1, len(data)):\n",
    "        if data[i] == data[i-1]:\n",
    "            cnt += 1\n",
    "            continue\n",
    "        \n",
    "        out.append(data[i-1])\n",
    "\n",
    "        if cnt != 1:\n",
    "            out.append(data[i-1])\n",
    "            out.append(cnt)\n",
    "            cnt = 1\n",
    "    \n",
    "    if cnt == 1:\n",
    "        out.append(data[-1])\n",
    "    else:\n",
    "        out.append(data[-1])\n",
    "        out.append(data[-1])\n",
    "        out.append(cnt)\n",
    "    \n",
    "    return out\n",
    "\n",
    "\n",
    "def filter_row(img):\n",
    "    out = img.copy()\n",
    "    H, W = img.shape\n",
    "\n",
    "    for h in range(H):\n",
    "        for w in range(1, W):\n",
    "            out[h, w] = img[h, w] - img[h, w-1]    \n",
    "    \n",
    "    return out\n",
    "\n",
    "def filter_column(img):\n",
    "    out = img.copy()\n",
    "    H, W = img.shape\n",
    "\n",
    "    for h in range(1, H):\n",
    "        for w in range(W):\n",
    "            out[h, w] = img[h, w] - img[h-1, w]    \n",
    "    \n",
    "    return out"
   ]
  },
  {
   "cell_type": "code",
   "execution_count": 4,
   "metadata": {
    "tags": []
   },
   "outputs": [],
   "source": [
    "# print(len(np.unique(filter_row(sample))))\n",
    "# print(len(np.unique(sample)))\n",
    "\n",
    "# print(len(runlength_encode(sample.ravel())))\n",
    "# print(len(runlength_encode(np.rot90(sample).ravel())))\n",
    "\n",
    "# tmp = runlength_encode(sample.ravel())\n",
    "# huff = huffman.HuffmanCoding()\n",
    "# res = huff.encode(tmp)\n"
   ]
  },
  {
   "cell_type": "code",
   "execution_count": 5,
   "metadata": {},
   "outputs": [],
   "source": [
    "ans = [3, 3, 3, 0, 0, 6, 2, 3, 5, 5, 5, 4, 4, 3, 3, 0, 0, 10]\n",
    "data = [3, 3, 3, 0, 0, 0, 0, 0, 0, 2, 3, 5, 5, 5, 5, 5, 4, 4, 4, 3, 0, 0, 0, 0, 0, 0, 0, 0, 0, 0]\n",
    "\n",
    "assert runlength_encode(data) == ans"
   ]
  },
  {
   "cell_type": "code",
   "execution_count": 6,
   "metadata": {
    "tags": []
   },
   "outputs": [
    {
     "data": {
      "text/plain": [
       "True"
      ]
     },
     "execution_count": 6,
     "metadata": {},
     "output_type": "execute_result"
    }
   ],
   "source": [
    "sample = x_train[40000, :, :]\n",
    "sample2 = x_train[3, :, :]\n",
    "cv2.imwrite(\"sample.png\", sample)"
   ]
  },
  {
   "cell_type": "code",
   "execution_count": 7,
   "metadata": {},
   "outputs": [
    {
     "data": {
      "text/plain": [
       "<matplotlib.image.AxesImage at 0x14e393d50>"
      ]
     },
     "execution_count": 7,
     "metadata": {},
     "output_type": "execute_result"
    },
    {
     "data": {
      "image/png": "[encoded data removed]",
      "text/plain": [
       "<Figure size 432x288 with 1 Axes>"
      ]
     },
     "metadata": {
      "needs_background": "light"
     },
     "output_type": "display_data"
    }
   ],
   "source": [
    "plt.imshow(x_train[40000, :, :])\n"
   ]
  },
  {
   "cell_type": "code",
   "execution_count": 8,
   "metadata": {},
   "outputs": [
    {
     "data": {
      "text/plain": [
       "<matplotlib.image.AxesImage at 0x14e43b7d0>"
      ]
     },
     "execution_count": 8,
     "metadata": {},
     "output_type": "execute_result"
    },
    {
     "data": {
      "image/png": "[encoded data removed]",
      "text/plain": [
       "<Figure size 432x288 with 1 Axes>"
      ]
     },
     "metadata": {
      "needs_background": "light"
     },
     "output_type": "display_data"
    }
   ],
   "source": [
    "plt.imshow(x_train[y_train == 8][10])"
   ]
  },
  {
   "cell_type": "code",
   "execution_count": 9,
   "metadata": {},
   "outputs": [],
   "source": [
    "def compare(img):\n",
    "    # Runlength and huffman\n",
    "    img_ = img.copy()\n",
    "    run_enc = runlength_encode(img_.ravel())\n",
    "    huff1 = huffman.HuffmanCoding()\n",
    "    out1 = huff1.encode(run_enc)\n",
    "\n",
    "    # Normal Huffman\n",
    "    huff2 = huffman.HuffmanCoding()\n",
    "    out2 = huff2.encode(img_.ravel())\n",
    "\n",
    "    # Filter(sub) + runlength + huffman\n",
    "    fil_img = filter_row(img_)\n",
    "    huff3 = huffman.HuffmanCoding()\n",
    "    run_enc2 = runlength_encode(fil_img.ravel())\n",
    "    out3 = huff3.encode(run_enc2)\n",
    "\n",
    "    # Filter(up) + runlength + huffman\n",
    "    fil_img2 = filter_column(img_)\n",
    "    huff4 = huffman.HuffmanCoding()\n",
    "    run_enc3 = runlength_encode(fil_img2.ravel())\n",
    "    out4 = huff4.encode(run_enc3)\n",
    "\n",
    "    # Results\n",
    "    out1_byte = ceil(len(out1) / 8)\n",
    "    out2_byte = ceil(len(out2) / 8)\n",
    "    out3_byte = ceil(len(out3) / 8)\n",
    "    out4_byte = ceil(len(out4) / 8)\n",
    "    out1_bpp = len(out1) / 28**2\n",
    "    out2_bpp = len(out2) / 28**2\n",
    "    out3_bpp = len(out3) / 28**2\n",
    "    out4_bpp = len(out4) / 28**2\n",
    "    \n",
    "\n",
    "    # Comparison\n",
    "    print(\"Runlength & Huffman: {} bytes, {} bpp\".format(out1_byte, out1_bpp))\n",
    "    print(\"Only Huffman: {} bytes, {} bpp\".format(out2_byte, out2_bpp))\n",
    "    print(\"Filter(sub) + runlength + huffman: {} bytes, {} bpp\".format(out3_byte, out3_bpp), len(out3))\n",
    "    print(\"Filter(up) + runlength + huffman: {} bytes, {} bpp\".format(out4_byte, out4_bpp))\n",
    "\n",
    "\n"
   ]
  },
  {
   "cell_type": "code",
   "execution_count": 10,
   "metadata": {
    "tags": []
   },
   "outputs": [
    {
     "ename": "NameError",
     "evalue": "name 'smallest' is not defined",
     "output_type": "error",
     "traceback": [
      "\u001b[0;31m---------------------------------------------------------------------------\u001b[0m",
      "\u001b[0;31mNameError\u001b[0m                                 Traceback (most recent call last)",
      "\u001b[0;32m<ipython-input-10-9f6c6274b3cb>\u001b[0m in \u001b[0;36m<module>\u001b[0;34m\u001b[0m\n\u001b[0;32m----> 1\u001b[0;31m \u001b[0mcompare\u001b[0m\u001b[0;34m(\u001b[0m\u001b[0msmallest\u001b[0m\u001b[0;34m)\u001b[0m\u001b[0;34m\u001b[0m\u001b[0;34m\u001b[0m\u001b[0m\n\u001b[0m",
      "\u001b[0;31mNameError\u001b[0m: name 'smallest' is not defined"
     ]
    }
   ],
   "source": [
    "compare(smallest)"
   ]
  },
  {
   "cell_type": "code",
   "execution_count": 11,
   "metadata": {
    "tags": []
   },
   "outputs": [
    {
     "name": "stdout",
     "output_type": "stream",
     "text": [
      "Runlength & Huffman: 205 bytes, 2.086734693877551 bpp\n",
      "Only Huffman: 244 bytes, 2.4872448979591835 bpp\n",
      "Filter(sub) + runlength + huffman: 230 bytes, 2.3443877551020407 bpp 1838\n",
      "Filter(up) + runlength + huffman: 184 bytes, 1.8724489795918366 bpp\n"
     ]
    },
    {
     "name": "stderr",
     "output_type": "stream",
     "text": [
      "/usr/local/lib/python3.7/site-packages/ipykernel_launcher.py:33: RuntimeWarning: overflow encountered in ubyte_scalars\n",
      "/usr/local/lib/python3.7/site-packages/ipykernel_launcher.py:43: RuntimeWarning: overflow encountered in ubyte_scalars\n"
     ]
    }
   ],
   "source": [
    "sample_rotated = np.rot90(sample)\n",
    "compare(sample_rotated)"
   ]
  },
  {
   "cell_type": "code",
   "execution_count": 12,
   "metadata": {},
   "outputs": [
    {
     "ename": "SyntaxError",
     "evalue": "unexpected EOF while parsing (<ipython-input-12-da7453f8dfa3>, line 2)",
     "output_type": "error",
     "traceback": [
      "\u001b[0;36m  File \u001b[0;32m\"<ipython-input-12-da7453f8dfa3>\"\u001b[0;36m, line \u001b[0;32m2\u001b[0m\n\u001b[0;31m    \u001b[0m\n\u001b[0m    ^\u001b[0m\n\u001b[0;31mSyntaxError\u001b[0m\u001b[0;31m:\u001b[0m unexpected EOF while parsing\n"
     ]
    }
   ],
   "source": [
    "def clockwise(img):\n",
    "    "
   ]
  },
  {
   "cell_type": "code",
   "execution_count": 13,
   "metadata": {},
   "outputs": [],
   "source": [
    "def count_runlength(data, count):\n",
    "    for i in range(60000):\n",
    "        tmp_count = 0\n",
    "\n",
    "        for j in data[i, :, :].ravel():\n",
    "            if j == 0:\n",
    "                tmp_count += 1\n",
    "            elif j != 0 and tmp_count != 0:\n",
    "                count.append(tmp_count)\n",
    "                tmp_count = 0\n",
    "\n",
    "        for k in np.rot90(data[i, :, :].ravel()):\n",
    "            if k == 0:\n",
    "                tmp_count += 1\n",
    "            elif k != 0 and tmp_count != 0:\n",
    "                count.append(tmp_count)\n",
    "                tmp_count = 0\n",
    "\n",
    "                \n",
    "    # tmp_count = 0\n",
    "    # for i in data.ravel():\n",
    "    #     if i == 0:\n",
    "    #         tmp_count += 1\n",
    "    #     elif i != 0 and tmp_count != 0:\n",
    "    #         count.append(tmp_count)\n",
    "    #         tmp_count = 0\n",
    "    \n",
    "    return count"
   ]
  },
  {
   "cell_type": "code",
   "execution_count": 14,
   "metadata": {},
   "outputs": [
    {
     "data": {
      "text/plain": [
       "(array([23616498.,   477616.,   286907.,   191709.,   131597.,    96949.,\n",
       "           75610.,    61138.,    52858.,    48514.,    46274.,    44886.,\n",
       "           44885.,    46283.,    45735.,    46711.,    45039.,    47566.,\n",
       "           46710.,    46971.,    47733.,    47792.,    48326.,    48138.,\n",
       "           48987.,    49532.,    49848.,    50022.,    49935.,    50072.,\n",
       "           51863.,    51011.,    52778.,    51508.,    53662.,    53381.,\n",
       "           54386.,    53205.,    54569.,    54075.,    55591.,    55461.,\n",
       "           54597.,    55734.,    54812.,    57583.,    56250.,    56629.,\n",
       "           58381.,    56393.,    52756.,    62900.,    58471.,    58171.,\n",
       "           57973.,    60289.,    58523.,    60188.,    59338.,    59099.,\n",
       "           61320.,    60600.,    59640.,    58578.,    61588.,    61618.,\n",
       "           61618.,    58991.,    63870.,    60733.,    63088.,    61540.,\n",
       "           62224.,    63560.,    60593.,    65295.,    62925.,    63640.,\n",
       "           64095.,    63593.,    64652.,    64854.,    64301.,    64933.,\n",
       "           51808.,    76308.,    65725.,    66889.,    65157.,    64161.,\n",
       "           68260.,    65593.,    66104.,    67969.,    66702.,    67876.,\n",
       "           68340.,    68175.,    67043.,    67354.,    69163.,    60867.,\n",
       "           75601.,    69324.,    67847.,    70404.,    69597.,    69781.,\n",
       "           71638.,    69242.,    70791.,    71627.,    71631.,    71240.,\n",
       "           71425.,    72338.,    73628.,    73821.,    71789.,    74507.,\n",
       "           75676.,    73781.,    74115.,    74994.,    74722.,    75429.,\n",
       "           80315.,    61473.,    80001.,    76392.,    77709.,    77083.,\n",
       "           77990.,    77066.,    76473.,    78503.,    81498.,    79878.,\n",
       "           82063.,    78696.,    81300.,    82063.,    82305.,    83221.,\n",
       "           83267.,    84042.,    85394.,    85162.,    85134.,    83316.,\n",
       "           89381.,    88129.,    78724.,    96839.,    89220.,    90987.,\n",
       "           91415.,    93276.,    92594.,    92550.,    96470.,    95292.,\n",
       "           96691.,    95327.,    97465.,   100538.,    99551.,   100747.,\n",
       "          103201.,    85959.,   113588.,   106531.,   107487.,   106649.,\n",
       "          108349.,   110325.,   111296.,   112493.,   112092.,   113981.,\n",
       "          116723.,   121505.,   114904.,   120685.,   121589.,   123210.,\n",
       "          123117.,   126936.,   128020.,   129956.,   135587.,   122942.,\n",
       "          134669.,   136697.,   136784.,   140534.,   140025.,   141389.,\n",
       "          142363.,   144892.,   145901.,   147861.,   149801.,   143681.,\n",
       "          156032.,   154984.,   157923.,   158524.,   159124.,   160360.,\n",
       "          163323.,   164281.,   161346.,   167351.,   167303.,   169201.,\n",
       "          170274.,   170297.,   169746.,   172123.,   170746.,   172663.,\n",
       "          173532.,   170930.,   170106.,   170589.,   166334.,   166172.,\n",
       "          163917.,   159211.,   155827.,   150418.,   144550.,   136571.,\n",
       "          129051.,   123696.,   116052.,   109297.,   104630.,    95955.,\n",
       "           89470.,    82919.,    76352.,    71212.,    65963.,    61809.,\n",
       "           58391.,    53819.,    49632.,    47634.,    44096.,    42304.,\n",
       "           45044.,    50596.,   444349.]),\n",
       " array([  0.,   1.,   2.,   3.,   4.,   5.,   6.,   7.,   8.,   9.,  10.,\n",
       "         11.,  12.,  13.,  14.,  15.,  16.,  17.,  18.,  19.,  20.,  21.,\n",
       "         22.,  23.,  24.,  25.,  26.,  27.,  28.,  29.,  30.,  31.,  32.,\n",
       "         33.,  34.,  35.,  36.,  37.,  38.,  39.,  40.,  41.,  42.,  43.,\n",
       "         44.,  45.,  46.,  47.,  48.,  49.,  50.,  51.,  52.,  53.,  54.,\n",
       "         55.,  56.,  57.,  58.,  59.,  60.,  61.,  62.,  63.,  64.,  65.,\n",
       "         66.,  67.,  68.,  69.,  70.,  71.,  72.,  73.,  74.,  75.,  76.,\n",
       "         77.,  78.,  79.,  80.,  81.,  82.,  83.,  84.,  85.,  86.,  87.,\n",
       "         88.,  89.,  90.,  91.,  92.,  93.,  94.,  95.,  96.,  97.,  98.,\n",
       "         99., 100., 101., 102., 103., 104., 105., 106., 107., 108., 109.,\n",
       "        110., 111., 112., 113., 114., 115., 116., 117., 118., 119., 120.,\n",
       "        121., 122., 123., 124., 125., 126., 127., 128., 129., 130., 131.,\n",
       "        132., 133., 134., 135., 136., 137., 138., 139., 140., 141., 142.,\n",
       "        143., 144., 145., 146., 147., 148., 149., 150., 151., 152., 153.,\n",
       "        154., 155., 156., 157., 158., 159., 160., 161., 162., 163., 164.,\n",
       "        165., 166., 167., 168., 169., 170., 171., 172., 173., 174., 175.,\n",
       "        176., 177., 178., 179., 180., 181., 182., 183., 184., 185., 186.,\n",
       "        187., 188., 189., 190., 191., 192., 193., 194., 195., 196., 197.,\n",
       "        198., 199., 200., 201., 202., 203., 204., 205., 206., 207., 208.,\n",
       "        209., 210., 211., 212., 213., 214., 215., 216., 217., 218., 219.,\n",
       "        220., 221., 222., 223., 224., 225., 226., 227., 228., 229., 230.,\n",
       "        231., 232., 233., 234., 235., 236., 237., 238., 239., 240., 241.,\n",
       "        242., 243., 244., 245., 246., 247., 248., 249., 250., 251., 252.,\n",
       "        253., 254., 255.]),\n",
       " <a list of 255 Patch objects>)"
      ]
     },
     "execution_count": 14,
     "metadata": {},
     "output_type": "execute_result"
    },
    {
     "data": {
      "image/png": "[encoded data removed]",
      "text/plain": [
       "<Figure size 432x288 with 1 Axes>"
      ]
     },
     "metadata": {
      "needs_background": "light"
     },
     "output_type": "display_data"
    }
   ],
   "source": [
    "plt.hist(x_train.ravel(), bins=255, rwidth=0.8, range=(0, 255))"
   ]
  },
  {
   "cell_type": "code",
   "execution_count": 15,
   "metadata": {},
   "outputs": [
    {
     "data": {
      "text/plain": [
       "0.5020514030612245"
      ]
     },
     "execution_count": 15,
     "metadata": {},
     "output_type": "execute_result"
    }
   ],
   "source": [
    "23616498 / (28 * 28 * 60000)"
   ]
  },
  {
   "cell_type": "code",
   "execution_count": 16,
   "metadata": {
    "tags": []
   },
   "outputs": [
    {
     "data": {
      "text/plain": [
       "1.6005193197367038"
      ]
     },
     "execution_count": 16,
     "metadata": {},
     "output_type": "execute_result"
    }
   ],
   "source": [
    "from collections import defaultdict\n",
    "\n",
    "def entropy(arr):\n",
    "    # create histogram\n",
    "    d = defaultdict(int)\n",
    "    for i in arr:\n",
    "        d[i] += 1\n",
    "\n",
    "    ps = np.array(list(d.values())) / len(arr)\n",
    "    etp = np.sum(list(map(lambda x: -1 * x * np.log(x), ps)))\n",
    "\n",
    "    return etp\n",
    "    \n",
    "\n",
    "entropy(sample.ravel())"
   ]
  },
  {
   "cell_type": "code",
   "execution_count": 17,
   "metadata": {},
   "outputs": [
    {
     "name": "stderr",
     "output_type": "stream",
     "text": [
      "/usr/local/lib/python3.7/site-packages/ipykernel_launcher.py:33: RuntimeWarning: overflow encountered in ubyte_scalars\n"
     ]
    },
    {
     "data": {
      "text/plain": [
       "3.384207963850551"
      ]
     },
     "execution_count": 17,
     "metadata": {},
     "output_type": "execute_result"
    }
   ],
   "source": [
    "entropy(runlength_encode(filter_row(sample).ravel()))"
   ]
  },
  {
   "cell_type": "code",
   "execution_count": 18,
   "metadata": {},
   "outputs": [
    {
     "name": "stderr",
     "output_type": "stream",
     "text": [
      "/usr/local/lib/python3.7/site-packages/ipykernel_launcher.py:33: RuntimeWarning: overflow encountered in ubyte_scalars\n"
     ]
    },
    {
     "data": {
      "text/plain": [
       "247"
      ]
     },
     "execution_count": 18,
     "metadata": {},
     "output_type": "execute_result"
    }
   ],
   "source": [
    "len(runlength_encode(filter_row(sample).ravel()))"
   ]
  },
  {
   "cell_type": "code",
   "execution_count": 19,
   "metadata": {},
   "outputs": [
    {
     "data": {
      "text/plain": [
       "6000"
      ]
     },
     "execution_count": 19,
     "metadata": {},
     "output_type": "execute_result"
    },
    {
     "data": {
      "image/png": "[encoded data removed]",
      "text/plain": [
       "<Figure size 432x288 with 1 Axes>"
      ]
     },
     "metadata": {
      "needs_background": "light"
     },
     "output_type": "display_data"
    }
   ],
   "source": [
    "plt.imshow(sample)\n",
    "\n",
    "len(x_train[y_train==1])"
   ]
  },
  {
   "cell_type": "code",
   "execution_count": 28,
   "metadata": {},
   "outputs": [
    {
     "name": "stderr",
     "output_type": "stream",
     "text": [
      "/usr/local/lib/python3.7/site-packages/ipykernel_launcher.py:43: RuntimeWarning: overflow encountered in ubyte_scalars\n"
     ]
    }
   ],
   "source": [
    "tmp = []\n",
    "wariai = []\n",
    "for i in range(60000):\n",
    "    x = x_train[i, :, :]\n",
    "    xc = filter_column(x)\n",
    "    xr = runlength_encode(xc.ravel())\n",
    "    tmp.append(np.max(xr))\n",
    "    wariai.append(len(xr)/784)\n",
    "    \n",
    "\n"
   ]
  },
  {
   "cell_type": "code",
   "execution_count": 29,
   "metadata": {},
   "outputs": [
    {
     "data": {
      "text/plain": [
       "343"
      ]
     },
     "execution_count": 29,
     "metadata": {},
     "output_type": "execute_result"
    }
   ],
   "source": [
    "np.max(tmp)"
   ]
  },
  {
   "cell_type": "code",
   "execution_count": 33,
   "metadata": {},
   "outputs": [
    {
     "data": {
      "text/plain": [
       "array([245. , 254.8, 264.6, 274.4, 284.2, 294. , 303.8, 313.6, 323.4,\n",
       "       333.2, 343. ])"
      ]
     },
     "execution_count": 33,
     "metadata": {},
     "output_type": "execute_result"
    },
    {
     "data": {
      "image/png": "[encoded data removed]",
      "text/plain": [
       "<Figure size 432x288 with 1 Axes>"
      ]
     },
     "metadata": {
      "needs_background": "light"
     },
     "output_type": "display_data"
    }
   ],
   "source": [
    "plt.hist(tmp)[1]"
   ]
  },
  {
   "cell_type": "code",
   "execution_count": null,
   "metadata": {},
   "outputs": [],
   "source": [
    "from collections import defaultdict\n",
    "\n",
    "d = defaultdict(int)\n",
    "for i in flat:\n",
    "    d[i] += 1\n",
    "\n",
    "d"
   ]
  }
 ],
 "metadata": {
  "kernelspec": {
   "display_name": "Python 3.7.4 64-bit",
   "language": "python",
   "name": "python37464bitc32ce4a03cda47aa907d3f777079e78b"
  },
  "language_info": {
   "codemirror_mode": {
    "name": "ipython",
    "version": 3
   },
   "file_extension": ".py",
   "mimetype": "text/x-python",
   "name": "python",
   "nbconvert_exporter": "python",
   "pygments_lexer": "ipython3",
   "version": "3.7.4"
  }
 },
 "nbformat": 4,
 "nbformat_minor": 4
}
