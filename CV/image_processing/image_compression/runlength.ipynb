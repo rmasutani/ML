{
 "cells": [
  {
   "cell_type": "code",
   "execution_count": 1,
   "metadata": {},
   "outputs": [],
   "source": [
    "import numpy as np \n",
    "import matplotlib.pyplot as plt\n",
    "import huffman\n",
    "import keras\n",
    "from math import ceil\n",
    "import cv2"
   ]
  },
  {
   "cell_type": "code",
   "execution_count": 2,
   "metadata": {},
   "outputs": [
    {
     "data": {
      "text/plain": [
       "(60000, 28, 28)"
      ]
     },
     "execution_count": 2,
     "metadata": {},
     "output_type": "execute_result"
    }
   ],
   "source": [
    "(x_train, y_train), (x_test, y_test) = keras.datasets.fashion_mnist.load_data()\n",
    "x_train.shape"
   ]
  },
  {
   "cell_type": "code",
   "execution_count": 3,
   "metadata": {},
   "outputs": [],
   "source": [
    "def runlength_encode(data):\n",
    "    out = []\n",
    "\n",
    "    cnt = 1\n",
    "    for i in range(1, len(data)):\n",
    "        if data[i] == data[i-1]:\n",
    "            cnt += 1\n",
    "            continue\n",
    "        \n",
    "        out.append(data[i-1])\n",
    "\n",
    "        if cnt != 1:\n",
    "            out.append(data[i-1])\n",
    "            out.append(cnt)\n",
    "            cnt = 1\n",
    "    \n",
    "    if cnt == 1:\n",
    "        out.append(data[-1])\n",
    "    else:\n",
    "        out.append(data[-1])\n",
    "        out.append(data[-1])\n",
    "        out.append(cnt)\n",
    "    \n",
    "    return out\n",
    "\n",
    "\n",
    "def filter_row(img):\n",
    "    out = img.copy()\n",
    "    H, W = img.shape\n",
    "\n",
    "    for h in range(H):\n",
    "        for w in range(1, W):\n",
    "            out[h, w] = img[h, w] - img[h, w-1]    \n",
    "    \n",
    "    return out\n",
    "\n",
    "def filter_column(img):\n",
    "    out = img.copy()\n",
    "    H, W = img.shape\n",
    "\n",
    "    for h in range(1, H):\n",
    "        for w in range(W):\n",
    "            out[h, w] = img[h, w] - img[h-1, w]    \n",
    "    \n",
    "    return out"
   ]
  },
  {
   "cell_type": "code",
   "execution_count": 4,
   "metadata": {
    "tags": []
   },
   "outputs": [],
   "source": [
    "# print(len(np.unique(filter_row(sample))))\n",
    "# print(len(np.unique(sample)))\n",
    "\n",
    "# print(len(runlength_encode(sample.ravel())))\n",
    "# print(len(runlength_encode(np.rot90(sample).ravel())))\n",
    "\n",
    "# tmp = runlength_encode(sample.ravel())\n",
    "# huff = huffman.HuffmanCoding()\n",
    "# res = huff.encode(tmp)\n"
   ]
  },
  {
   "cell_type": "code",
   "execution_count": 5,
   "metadata": {},
   "outputs": [],
   "source": [
    "ans = [3, 3, 3, 0, 0, 6, 2, 3, 5, 5, 5, 4, 4, 3, 3, 0, 0, 10]\n",
    "data = [3, 3, 3, 0, 0, 0, 0, 0, 0, 2, 3, 5, 5, 5, 5, 5, 4, 4, 4, 3, 0, 0, 0, 0, 0, 0, 0, 0, 0, 0]\n",
    "\n",
    "assert runlength_encode(data) == ans"
   ]
  },
  {
   "cell_type": "code",
   "execution_count": 6,
   "metadata": {
    "tags": []
   },
   "outputs": [
    {
     "data": {
      "text/plain": [
       "True"
      ]
     },
     "execution_count": 6,
     "metadata": {},
     "output_type": "execute_result"
    }
   ],
   "source": [
    "sample = x_train[40000, :, :]\n",
    "sample2 = x_train[3, :, :]\n",
    "cv2.imwrite(\"sample.png\", sample)"
   ]
  },
  {
   "cell_type": "code",
   "execution_count": 25,
   "metadata": {},
   "outputs": [
    {
     "data": {
      "text/plain": [
       "<matplotlib.image.AxesImage at 0x1816c9490>"
      ]
     },
     "execution_count": 25,
     "metadata": {},
     "output_type": "execute_result"
    },
    {
     "data": {
      "image/png": "[encoded data removed]",
      "text/plain": [
       "<Figure size 432x288 with 1 Axes>"
      ]
     },
     "metadata": {
      "needs_background": "light"
     },
     "output_type": "display_data"
    }
   ],
   "source": [
    "plt.imshow(x_train[1000, :, :], cmap=\"gray\")\n"
   ]
  },
  {
   "cell_type": "code",
   "execution_count": 8,
   "metadata": {},
   "outputs": [
    {
     "data": {
      "text/plain": [
       "<matplotlib.image.AxesImage at 0x14afcc150>"
      ]
     },
     "execution_count": 8,
     "metadata": {},
     "output_type": "execute_result"
    },
    {
     "data": {
      "image/png": "[encoded data removed]",
      "text/plain": [
       "<Figure size 432x288 with 1 Axes>"
      ]
     },
     "metadata": {
      "needs_background": "light"
     },
     "output_type": "display_data"
    }
   ],
   "source": [
    "plt.imshow(x_train[y_train == 8][10])"
   ]
  },
  {
   "cell_type": "code",
   "execution_count": 9,
   "metadata": {},
   "outputs": [],
   "source": [
    "def compare(img):\n",
    "    # Runlength and huffman\n",
    "    img_ = img.copy()\n",
    "    run_enc = runlength_encode(img_.ravel())\n",
    "    huff1 = huffman.HuffmanCoding()\n",
    "    out1 = huff1.encode(run_enc)\n",
    "\n",
    "    # Normal Huffman\n",
    "    huff2 = huffman.HuffmanCoding()\n",
    "    out2 = huff2.encode(img_.ravel())\n",
    "\n",
    "    # Filter(sub) + runlength + huffman\n",
    "    fil_img = filter_row(img_)\n",
    "    huff3 = huffman.HuffmanCoding()\n",
    "    run_enc2 = runlength_encode(fil_img.ravel())\n",
    "    out3 = huff3.encode(run_enc2)\n",
    "\n",
    "    # Filter(up) + runlength + huffman\n",
    "    fil_img2 = filter_column(img_)\n",
    "    huff4 = huffman.HuffmanCoding()\n",
    "    run_enc3 = runlength_encode(fil_img2.ravel())\n",
    "    out4 = huff4.encode(run_enc3)\n",
    "\n",
    "    # Results\n",
    "    out1_byte = ceil(len(out1) / 8)\n",
    "    out2_byte = ceil(len(out2) / 8)\n",
    "    out3_byte = ceil(len(out3) / 8)\n",
    "    out4_byte = ceil(len(out4) / 8)\n",
    "    out1_bpp = len(out1) / 28**2\n",
    "    out2_bpp = len(out2) / 28**2\n",
    "    out3_bpp = len(out3) / 28**2\n",
    "    out4_bpp = len(out4) / 28**2\n",
    "    \n",
    "\n",
    "    # Comparison\n",
    "    print(\"Runlength & Huffman: {} bytes, {} bpp\".format(out1_byte, out1_bpp))\n",
    "    print(\"Only Huffman: {} bytes, {} bpp\".format(out2_byte, out2_bpp))\n",
    "    print(\"Filter(sub) + runlength + huffman: {} bytes, {} bpp\".format(out3_byte, out3_bpp), len(out3))\n",
    "    print(\"Filter(up) + runlength + huffman: {} bytes, {} bpp\".format(out4_byte, out4_bpp))\n",
    "\n",
    "\n"
   ]
  },
  {
   "cell_type": "code",
   "execution_count": 10,
   "metadata": {
    "tags": []
   },
   "outputs": [
    {
     "ename": "NameError",
     "evalue": "name 'smallest' is not defined",
     "output_type": "error",
     "traceback": [
      "\u001b[0;31m---------------------------------------------------------------------------\u001b[0m",
      "\u001b[0;31mNameError\u001b[0m                                 Traceback (most recent call last)",
      "\u001b[0;32m<ipython-input-10-9f6c6274b3cb>\u001b[0m in \u001b[0;36m<module>\u001b[0;34m\u001b[0m\n\u001b[0;32m----> 1\u001b[0;31m \u001b[0mcompare\u001b[0m\u001b[0;34m(\u001b[0m\u001b[0msmallest\u001b[0m\u001b[0;34m)\u001b[0m\u001b[0;34m\u001b[0m\u001b[0;34m\u001b[0m\u001b[0m\n\u001b[0m",
      "\u001b[0;31mNameError\u001b[0m: name 'smallest' is not defined"
     ]
    }
   ],
   "source": [
    "compare(smallest)"
   ]
  },
  {
   "cell_type": "code",
   "execution_count": 11,
   "metadata": {
    "tags": []
   },
   "outputs": [
    {
     "name": "stdout",
     "output_type": "stream",
     "text": [
      "Runlength & Huffman: 205 bytes, 2.086734693877551 bpp\n",
      "Only Huffman: 244 bytes, 2.4872448979591835 bpp\n",
      "Filter(sub) + runlength + huffman: 230 bytes, 2.3443877551020407 bpp 1838\n",
      "Filter(up) + runlength + huffman: 184 bytes, 1.8724489795918366 bpp\n"
     ]
    },
    {
     "name": "stderr",
     "output_type": "stream",
     "text": [
      "/usr/local/lib/python3.7/site-packages/ipykernel_launcher.py:33: RuntimeWarning: overflow encountered in ubyte_scalars\n",
      "/usr/local/lib/python3.7/site-packages/ipykernel_launcher.py:43: RuntimeWarning: overflow encountered in ubyte_scalars\n"
     ]
    }
   ],
   "source": [
    "sample_rotated = np.rot90(sample)\n",
    "compare(sample_rotated)"
   ]
  },
  {
   "cell_type": "code",
   "execution_count": 12,
   "metadata": {},
   "outputs": [],
   "source": [
    "# def clockwise(img):\n",
    "    "
   ]
  },
  {
   "cell_type": "code",
   "execution_count": 13,
   "metadata": {},
   "outputs": [],
   "source": [
    "def count_runlength(data, count):\n",
    "    for i in range(60000):\n",
    "        tmp_count = 0\n",
    "\n",
    "        for j in data[i, :, :].ravel():\n",
    "            if j == 0:\n",
    "                tmp_count += 1\n",
    "            elif j != 0 and tmp_count != 0:\n",
    "                count.append(tmp_count)\n",
    "                tmp_count = 0\n",
    "\n",
    "        for k in np.rot90(data[i, :, :].ravel()):\n",
    "            if k == 0:\n",
    "                tmp_count += 1\n",
    "            elif k != 0 and tmp_count != 0:\n",
    "                count.append(tmp_count)\n",
    "                tmp_count = 0\n",
    "\n",
    "                \n",
    "    # tmp_count = 0\n",
    "    # for i in data.ravel():\n",
    "    #     if i == 0:\n",
    "    #         tmp_count += 1\n",
    "    #     elif i != 0 and tmp_count != 0:\n",
    "    #         count.append(tmp_count)\n",
    "    #         tmp_count = 0\n",
    "    \n",
    "    return count"
   ]
  },
  {
   "cell_type": "code",
   "execution_count": 14,
   "metadata": {},
   "outputs": [
    {
     "data": {
      "text/plain": [
       "(array([23616498.,   477616.,   286907.,   191709.,   131597.,    96949.,\n",
       "           75610.,    61138.,    52858.,    48514.,    46274.,    44886.,\n",
       "           44885.,    46283.,    45735.,    46711.,    45039.,    47566.,\n",
       "           46710.,    46971.,    47733.,    47792.,    48326.,    48138.,\n",
       "           48987.,    49532.,    49848.,    50022.,    49935.,    50072.,\n",
       "           51863.,    51011.,    52778.,    51508.,    53662.,    53381.,\n",
       "           54386.,    53205.,    54569.,    54075.,    55591.,    55461.,\n",
       "           54597.,    55734.,    54812.,    57583.,    56250.,    56629.,\n",
       "           58381.,    56393.,    52756.,    62900.,    58471.,    58171.,\n",
       "           57973.,    60289.,    58523.,    60188.,    59338.,    59099.,\n",
       "           61320.,    60600.,    59640.,    58578.,    61588.,    61618.,\n",
       "           61618.,    58991.,    63870.,    60733.,    63088.,    61540.,\n",
       "           62224.,    63560.,    60593.,    65295.,    62925.,    63640.,\n",
       "           64095.,    63593.,    64652.,    64854.,    64301.,    64933.,\n",
       "           51808.,    76308.,    65725.,    66889.,    65157.,    64161.,\n",
       "           68260.,    65593.,    66104.,    67969.,    66702.,    67876.,\n",
       "           68340.,    68175.,    67043.,    67354.,    69163.,    60867.,\n",
       "           75601.,    69324.,    67847.,    70404.,    69597.,    69781.,\n",
       "           71638.,    69242.,    70791.,    71627.,    71631.,    71240.,\n",
       "           71425.,    72338.,    73628.,    73821.,    71789.,    74507.,\n",
       "           75676.,    73781.,    74115.,    74994.,    74722.,    75429.,\n",
       "           80315.,    61473.,    80001.,    76392.,    77709.,    77083.,\n",
       "           77990.,    77066.,    76473.,    78503.,    81498.,    79878.,\n",
       "           82063.,    78696.,    81300.,    82063.,    82305.,    83221.,\n",
       "           83267.,    84042.,    85394.,    85162.,    85134.,    83316.,\n",
       "           89381.,    88129.,    78724.,    96839.,    89220.,    90987.,\n",
       "           91415.,    93276.,    92594.,    92550.,    96470.,    95292.,\n",
       "           96691.,    95327.,    97465.,   100538.,    99551.,   100747.,\n",
       "          103201.,    85959.,   113588.,   106531.,   107487.,   106649.,\n",
       "          108349.,   110325.,   111296.,   112493.,   112092.,   113981.,\n",
       "          116723.,   121505.,   114904.,   120685.,   121589.,   123210.,\n",
       "          123117.,   126936.,   128020.,   129956.,   135587.,   122942.,\n",
       "          134669.,   136697.,   136784.,   140534.,   140025.,   141389.,\n",
       "          142363.,   144892.,   145901.,   147861.,   149801.,   143681.,\n",
       "          156032.,   154984.,   157923.,   158524.,   159124.,   160360.,\n",
       "          163323.,   164281.,   161346.,   167351.,   167303.,   169201.,\n",
       "          170274.,   170297.,   169746.,   172123.,   170746.,   172663.,\n",
       "          173532.,   170930.,   170106.,   170589.,   166334.,   166172.,\n",
       "          163917.,   159211.,   155827.,   150418.,   144550.,   136571.,\n",
       "          129051.,   123696.,   116052.,   109297.,   104630.,    95955.,\n",
       "           89470.,    82919.,    76352.,    71212.,    65963.,    61809.,\n",
       "           58391.,    53819.,    49632.,    47634.,    44096.,    42304.,\n",
       "           45044.,    50596.,   444349.]),\n",
       " array([  0.,   1.,   2.,   3.,   4.,   5.,   6.,   7.,   8.,   9.,  10.,\n",
       "         11.,  12.,  13.,  14.,  15.,  16.,  17.,  18.,  19.,  20.,  21.,\n",
       "         22.,  23.,  24.,  25.,  26.,  27.,  28.,  29.,  30.,  31.,  32.,\n",
       "         33.,  34.,  35.,  36.,  37.,  38.,  39.,  40.,  41.,  42.,  43.,\n",
       "         44.,  45.,  46.,  47.,  48.,  49.,  50.,  51.,  52.,  53.,  54.,\n",
       "         55.,  56.,  57.,  58.,  59.,  60.,  61.,  62.,  63.,  64.,  65.,\n",
       "         66.,  67.,  68.,  69.,  70.,  71.,  72.,  73.,  74.,  75.,  76.,\n",
       "         77.,  78.,  79.,  80.,  81.,  82.,  83.,  84.,  85.,  86.,  87.,\n",
       "         88.,  89.,  90.,  91.,  92.,  93.,  94.,  95.,  96.,  97.,  98.,\n",
       "         99., 100., 101., 102., 103., 104., 105., 106., 107., 108., 109.,\n",
       "        110., 111., 112., 113., 114., 115., 116., 117., 118., 119., 120.,\n",
       "        121., 122., 123., 124., 125., 126., 127., 128., 129., 130., 131.,\n",
       "        132., 133., 134., 135., 136., 137., 138., 139., 140., 141., 142.,\n",
       "        143., 144., 145., 146., 147., 148., 149., 150., 151., 152., 153.,\n",
       "        154., 155., 156., 157., 158., 159., 160., 161., 162., 163., 164.,\n",
       "        165., 166., 167., 168., 169., 170., 171., 172., 173., 174., 175.,\n",
       "        176., 177., 178., 179., 180., 181., 182., 183., 184., 185., 186.,\n",
       "        187., 188., 189., 190., 191., 192., 193., 194., 195., 196., 197.,\n",
       "        198., 199., 200., 201., 202., 203., 204., 205., 206., 207., 208.,\n",
       "        209., 210., 211., 212., 213., 214., 215., 216., 217., 218., 219.,\n",
       "        220., 221., 222., 223., 224., 225., 226., 227., 228., 229., 230.,\n",
       "        231., 232., 233., 234., 235., 236., 237., 238., 239., 240., 241.,\n",
       "        242., 243., 244., 245., 246., 247., 248., 249., 250., 251., 252.,\n",
       "        253., 254., 255.]),\n",
       " <a list of 255 Patch objects>)"
      ]
     },
     "execution_count": 14,
     "metadata": {},
     "output_type": "execute_result"
    },
    {
     "data": {
      "image/png": "[encoded data removed]",
      "text/plain": [
       "<Figure size 432x288 with 1 Axes>"
      ]
     },
     "metadata": {
      "needs_background": "light"
     },
     "output_type": "display_data"
    }
   ],
   "source": [
    "plt.hist(x_train.ravel(), bins=255, rwidth=0.8, range=(0, 255))"
   ]
  },
  {
   "cell_type": "code",
   "execution_count": 15,
   "metadata": {},
   "outputs": [
    {
     "data": {
      "text/plain": [
       "0.5020514030612245"
      ]
     },
     "execution_count": 15,
     "metadata": {},
     "output_type": "execute_result"
    }
   ],
   "source": [
    "23616498 / (28 * 28 * 60000)"
   ]
  },
  {
   "cell_type": "code",
   "execution_count": 16,
   "metadata": {
    "tags": []
   },
   "outputs": [
    {
     "data": {
      "text/plain": [
       "1.6005193197367038"
      ]
     },
     "execution_count": 16,
     "metadata": {},
     "output_type": "execute_result"
    }
   ],
   "source": [
    "from collections import defaultdict\n",
    "\n",
    "def entropy(arr):\n",
    "    # create histogram\n",
    "    d = defaultdict(int)\n",
    "    for i in arr:\n",
    "        d[i] += 1\n",
    "\n",
    "    ps = np.array(list(d.values())) / len(arr)\n",
    "    etp = np.sum(list(map(lambda x: -1 * x * np.log(x), ps)))\n",
    "\n",
    "    return etp\n",
    "    \n",
    "\n",
    "entropy(sample.ravel())"
   ]
  },
  {
   "cell_type": "code",
   "execution_count": 17,
   "metadata": {},
   "outputs": [
    {
     "name": "stderr",
     "output_type": "stream",
     "text": [
      "/usr/local/lib/python3.7/site-packages/ipykernel_launcher.py:33: RuntimeWarning: overflow encountered in ubyte_scalars\n"
     ]
    },
    {
     "data": {
      "text/plain": [
       "3.384207963850551"
      ]
     },
     "execution_count": 17,
     "metadata": {},
     "output_type": "execute_result"
    }
   ],
   "source": [
    "entropy(runlength_encode(filter_row(sample).ravel()))"
   ]
  },
  {
   "cell_type": "code",
   "execution_count": 18,
   "metadata": {},
   "outputs": [
    {
     "name": "stderr",
     "output_type": "stream",
     "text": [
      "/usr/local/lib/python3.7/site-packages/ipykernel_launcher.py:33: RuntimeWarning: overflow encountered in ubyte_scalars\n"
     ]
    },
    {
     "data": {
      "text/plain": [
       "247"
      ]
     },
     "execution_count": 18,
     "metadata": {},
     "output_type": "execute_result"
    }
   ],
   "source": [
    "len(runlength_encode(filter_row(sample).ravel()))"
   ]
  },
  {
   "cell_type": "code",
   "execution_count": 19,
   "metadata": {},
   "outputs": [
    {
     "data": {
      "text/plain": [
       "6000"
      ]
     },
     "execution_count": 19,
     "metadata": {},
     "output_type": "execute_result"
    },
    {
     "data": {
      "image/png": "[encoded data removed]",
      "text/plain": [
       "<Figure size 432x288 with 1 Axes>"
      ]
     },
     "metadata": {
      "needs_background": "light"
     },
     "output_type": "display_data"
    }
   ],
   "source": [
    "plt.imshow(sample)\n",
    "\n",
    "len(x_train[y_train==1])"
   ]
  },
  {
   "cell_type": "code",
   "execution_count": 20,
   "metadata": {},
   "outputs": [],
   "source": [
    "tmp = []\n",
    "wariai = []\n",
    "for i in range(60000):\n",
    "    x = x_train[i, :, :]\n",
    "    xr = runlength_encode(x.ravel())\n",
    "    tmp += xr\n",
    "    \n",
    "\n"
   ]
  },
  {
   "cell_type": "code",
   "execution_count": 21,
   "metadata": {},
   "outputs": [
    {
     "data": {
      "text/plain": [
       "array([  0,   0,  96, ...,   0,   0, 225])"
      ]
     },
     "execution_count": 21,
     "metadata": {},
     "output_type": "execute_result"
    }
   ],
   "source": [
    "np.array(tmp)"
   ]
  },
  {
   "cell_type": "code",
   "execution_count": 23,
   "metadata": {},
   "outputs": [
    {
     "data": {
      "text/plain": [
       "(array([4.576376e+06, 4.646280e+05, 1.343658e+06, 4.199720e+05,\n",
       "        2.567320e+05, 1.890300e+05, 1.816210e+05, 1.803650e+05,\n",
       "        1.924040e+05, 1.692820e+05, 1.559730e+05, 1.258910e+05,\n",
       "        1.207030e+05, 1.159410e+05, 1.104020e+05, 1.053490e+05,\n",
       "        1.025360e+05, 1.209170e+05, 1.041510e+05, 9.300900e+04,\n",
       "        7.090200e+04, 5.884300e+04, 5.326600e+04, 5.018900e+04,\n",
       "        4.987000e+04, 4.996300e+04, 5.000700e+04, 4.985300e+04,\n",
       "        4.978100e+04, 5.029500e+04, 5.180300e+04, 5.087000e+04,\n",
       "        5.272700e+04, 5.122500e+04, 5.325000e+04, 5.311100e+04,\n",
       "        5.411600e+04, 5.320700e+04, 5.442700e+04, 5.389100e+04,\n",
       "        5.524400e+04, 5.513500e+04, 5.428900e+04, 5.528700e+04,\n",
       "        5.446900e+04, 5.716800e+04, 5.586200e+04, 5.625000e+04,\n",
       "        5.797000e+04, 5.604000e+04, 5.238400e+04, 6.244500e+04,\n",
       "        5.807600e+04, 5.779800e+04, 5.761000e+04, 5.992300e+04,\n",
       "        5.845700e+04, 6.052800e+04, 5.935800e+04, 5.884100e+04,\n",
       "        6.100600e+04, 6.032100e+04, 5.938400e+04, 5.832600e+04,\n",
       "        6.135500e+04, 6.139800e+04, 6.136700e+04, 5.883800e+04,\n",
       "        6.358300e+04, 6.059500e+04, 6.288300e+04, 6.130600e+04,\n",
       "        6.199200e+04, 6.338900e+04, 6.030400e+04, 6.499800e+04,\n",
       "        6.264500e+04, 6.334400e+04, 6.382200e+04, 6.330700e+04,\n",
       "        6.441400e+04, 6.455500e+04, 6.401500e+04, 6.464200e+04,\n",
       "        5.213700e+04, 7.691700e+04, 6.587800e+04, 6.671800e+04,\n",
       "        6.496700e+04, 6.395100e+04, 6.791800e+04, 6.527700e+04,\n",
       "        6.588400e+04, 6.789700e+04, 6.657600e+04, 6.775000e+04,\n",
       "        6.823100e+04, 6.813700e+04, 6.688700e+04, 6.720100e+04,\n",
       "        6.895900e+04, 6.071900e+04, 7.526100e+04, 6.905800e+04,\n",
       "        6.747200e+04, 7.012800e+04, 6.933900e+04, 6.942000e+04,\n",
       "        7.136600e+04, 6.894000e+04, 7.049200e+04, 7.134200e+04,\n",
       "        7.187200e+04, 7.199200e+04, 7.157600e+04, 7.220000e+04,\n",
       "        7.344700e+04, 7.356500e+04, 7.151800e+04, 7.424800e+04,\n",
       "        7.539900e+04, 7.367000e+04, 7.404600e+04, 7.486300e+04,\n",
       "        7.462500e+04, 7.549300e+04, 8.030900e+04, 6.142600e+04,\n",
       "        7.992800e+04, 7.629300e+04, 7.753600e+04, 7.689200e+04,\n",
       "        7.774500e+04, 7.684000e+04, 7.627000e+04, 7.823200e+04,\n",
       "        8.121500e+04, 7.965200e+04, 8.177700e+04, 7.842700e+04,\n",
       "        8.177100e+04, 8.305800e+04, 8.248600e+04, 8.317300e+04,\n",
       "        8.312800e+04, 8.383600e+04, 8.516900e+04, 8.485400e+04,\n",
       "        8.490700e+04, 8.318300e+04, 8.917000e+04, 8.802000e+04,\n",
       "        7.867100e+04, 9.680100e+04, 8.917100e+04, 9.098500e+04,\n",
       "        9.127500e+04, 9.316000e+04, 9.240600e+04, 9.235200e+04,\n",
       "        9.622400e+04, 9.500600e+04, 9.632900e+04, 9.502100e+04,\n",
       "        9.715700e+04, 1.001950e+05, 9.923700e+04, 1.004450e+05,\n",
       "        1.034660e+05, 8.653800e+04, 1.135230e+05, 1.062460e+05,\n",
       "        1.071920e+05, 1.062580e+05, 1.079860e+05, 1.098880e+05,\n",
       "        1.108850e+05, 1.122010e+05, 1.116960e+05, 1.136050e+05,\n",
       "        1.163430e+05, 1.211000e+05, 1.146070e+05, 1.203310e+05,\n",
       "        1.212290e+05, 1.228220e+05, 1.226550e+05, 1.263710e+05,\n",
       "        1.274260e+05, 1.293410e+05, 1.348930e+05, 1.223370e+05,\n",
       "        1.339800e+05, 1.360080e+05, 1.360290e+05, 1.396230e+05,\n",
       "        1.401810e+05, 1.419590e+05, 1.420110e+05, 1.441700e+05,\n",
       "        1.451220e+05, 1.469440e+05, 1.488710e+05, 1.427310e+05,\n",
       "        1.552090e+05, 1.540210e+05, 1.566810e+05, 1.572060e+05,\n",
       "        1.576810e+05, 1.592790e+05, 1.619850e+05, 1.628180e+05,\n",
       "        1.598560e+05, 1.656630e+05, 1.655360e+05, 1.672280e+05,\n",
       "        1.682750e+05, 1.681260e+05, 1.670830e+05, 1.696960e+05,\n",
       "        1.683880e+05, 1.699400e+05, 1.706470e+05, 1.676570e+05,\n",
       "        1.684740e+05, 1.680700e+05, 1.631200e+05, 1.627690e+05,\n",
       "        1.598780e+05, 1.556130e+05, 1.521440e+05, 1.465900e+05,\n",
       "        1.413990e+05, 1.338950e+05, 1.269860e+05, 1.209720e+05,\n",
       "        1.141880e+05, 1.076280e+05, 1.026190e+05, 9.460000e+04,\n",
       "        8.840700e+04, 8.191200e+04, 7.559100e+04, 7.063200e+04,\n",
       "        6.550000e+04, 6.131800e+04, 5.794900e+04, 5.348300e+04,\n",
       "        4.932500e+04, 4.735500e+04, 4.389600e+04, 4.209500e+04,\n",
       "        4.529900e+04, 5.040300e+04, 6.456200e+04, 3.452130e+05,\n",
       "        3.300000e+01, 3.100000e+01, 3.600000e+01, 3.400000e+01,\n",
       "        1.770000e+02, 3.180000e+02, 3.270000e+02, 2.460000e+02,\n",
       "        1.480000e+02, 1.220000e+02, 1.440000e+02, 1.220000e+02,\n",
       "        8.400000e+01, 2.900000e+01, 1.100000e+01, 5.000000e+00,\n",
       "        5.000000e+00, 5.000000e+00, 5.000000e+00, 6.000000e+00,\n",
       "        6.000000e+00, 3.000000e+00, 5.000000e+00, 1.000000e+00,\n",
       "        2.520000e+02, 9.300000e+01, 1.600000e+01, 1.500000e+01,\n",
       "        1.400000e+01, 3.600000e+01, 5.100000e+01, 3.900000e+01,\n",
       "        8.100000e+01, 6.100000e+01, 4.500000e+01, 3.700000e+01,\n",
       "        2.800000e+01, 2.600000e+01, 2.600000e+01, 1.000000e+01,\n",
       "        5.000000e+00, 4.000000e+00, 0.000000e+00, 0.000000e+00,\n",
       "        1.000000e+00, 3.000000e+00, 3.000000e+00, 4.000000e+00,\n",
       "        2.000000e+00, 1.000000e+00, 0.000000e+00, 0.000000e+00,\n",
       "        1.250000e+02, 3.100000e+01, 1.900000e+01, 1.100000e+01,\n",
       "        2.900000e+01, 2.900000e+01, 3.100000e+01, 3.800000e+01,\n",
       "        3.600000e+01, 1.700000e+01, 7.000000e+00, 2.000000e+00,\n",
       "        1.000000e+00, 2.000000e+00, 0.000000e+00, 0.000000e+00,\n",
       "        0.000000e+00, 0.000000e+00, 0.000000e+00, 1.000000e+00,\n",
       "        0.000000e+00, 0.000000e+00, 0.000000e+00, 0.000000e+00,\n",
       "        0.000000e+00, 0.000000e+00, 0.000000e+00, 0.000000e+00,\n",
       "        1.500000e+01, 6.000000e+00, 1.000000e+00, 2.000000e+00,\n",
       "        7.000000e+00, 1.000000e+00, 2.000000e+00, 2.000000e+00,\n",
       "        0.000000e+00, 0.000000e+00, 0.000000e+00, 0.000000e+00,\n",
       "        0.000000e+00, 0.000000e+00]),\n",
       " array([  0.,   1.,   2.,   3.,   4.,   5.,   6.,   7.,   8.,   9.,  10.,\n",
       "         11.,  12.,  13.,  14.,  15.,  16.,  17.,  18.,  19.,  20.,  21.,\n",
       "         22.,  23.,  24.,  25.,  26.,  27.,  28.,  29.,  30.,  31.,  32.,\n",
       "         33.,  34.,  35.,  36.,  37.,  38.,  39.,  40.,  41.,  42.,  43.,\n",
       "         44.,  45.,  46.,  47.,  48.,  49.,  50.,  51.,  52.,  53.,  54.,\n",
       "         55.,  56.,  57.,  58.,  59.,  60.,  61.,  62.,  63.,  64.,  65.,\n",
       "         66.,  67.,  68.,  69.,  70.,  71.,  72.,  73.,  74.,  75.,  76.,\n",
       "         77.,  78.,  79.,  80.,  81.,  82.,  83.,  84.,  85.,  86.,  87.,\n",
       "         88.,  89.,  90.,  91.,  92.,  93.,  94.,  95.,  96.,  97.,  98.,\n",
       "         99., 100., 101., 102., 103., 104., 105., 106., 107., 108., 109.,\n",
       "        110., 111., 112., 113., 114., 115., 116., 117., 118., 119., 120.,\n",
       "        121., 122., 123., 124., 125., 126., 127., 128., 129., 130., 131.,\n",
       "        132., 133., 134., 135., 136., 137., 138., 139., 140., 141., 142.,\n",
       "        143., 144., 145., 146., 147., 148., 149., 150., 151., 152., 153.,\n",
       "        154., 155., 156., 157., 158., 159., 160., 161., 162., 163., 164.,\n",
       "        165., 166., 167., 168., 169., 170., 171., 172., 173., 174., 175.,\n",
       "        176., 177., 178., 179., 180., 181., 182., 183., 184., 185., 186.,\n",
       "        187., 188., 189., 190., 191., 192., 193., 194., 195., 196., 197.,\n",
       "        198., 199., 200., 201., 202., 203., 204., 205., 206., 207., 208.,\n",
       "        209., 210., 211., 212., 213., 214., 215., 216., 217., 218., 219.,\n",
       "        220., 221., 222., 223., 224., 225., 226., 227., 228., 229., 230.,\n",
       "        231., 232., 233., 234., 235., 236., 237., 238., 239., 240., 241.,\n",
       "        242., 243., 244., 245., 246., 247., 248., 249., 250., 251., 252.,\n",
       "        253., 254., 255., 256., 257., 258., 259., 260., 261., 262., 263.,\n",
       "        264., 265., 266., 267., 268., 269., 270., 271., 272., 273., 274.,\n",
       "        275., 276., 277., 278., 279., 280., 281., 282., 283., 284., 285.,\n",
       "        286., 287., 288., 289., 290., 291., 292., 293., 294., 295., 296.,\n",
       "        297., 298., 299., 300., 301., 302., 303., 304., 305., 306., 307.,\n",
       "        308., 309., 310., 311., 312., 313., 314., 315., 316., 317., 318.,\n",
       "        319., 320., 321., 322., 323., 324., 325., 326., 327., 328., 329.,\n",
       "        330., 331., 332., 333., 334., 335., 336., 337., 338., 339., 340.,\n",
       "        341., 342., 343., 344., 345., 346., 347., 348., 349., 350.]),\n",
       " <a list of 350 Patch objects>)"
      ]
     },
     "execution_count": 23,
     "metadata": {},
     "output_type": "execute_result"
    },
    {
     "data": {
      "image/png": "[encoded data removed]",
      "text/plain": [
       "<Figure size 432x288 with 1 Axes>"
      ]
     },
     "metadata": {
      "needs_background": "light"
     },
     "output_type": "display_data"
    }
   ],
   "source": [
    "plt.hist(tmp, bins=350, rwidth=0.8, range=(0, 350))"
   ]
  },
  {
   "cell_type": "code",
   "execution_count": null,
   "metadata": {},
   "outputs": [],
   "source": [
    "from collections import defaultdict\n",
    "\n",
    "d = defaultdict(int)\n",
    "for i in flat:\n",
    "    d[i] += 1\n",
    "\n",
    "d"
   ]
  }
 ],
 "metadata": {
  "kernelspec": {
   "display_name": "Python 3.7.4 64-bit",
   "language": "python",
   "name": "python37464bitc32ce4a03cda47aa907d3f777079e78b"
  },
  "language_info": {
   "codemirror_mode": {
    "name": "ipython",
    "version": 3
   },
   "file_extension": ".py",
   "mimetype": "text/x-python",
   "name": "python",
   "nbconvert_exporter": "python",
   "pygments_lexer": "ipython3",
   "version": "3.7.4"
  }
 },
 "nbformat": 4,
 "nbformat_minor": 4
}
