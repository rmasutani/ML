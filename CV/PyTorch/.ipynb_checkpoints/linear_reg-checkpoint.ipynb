{
 "cells": [
  {
   "cell_type": "code",
   "execution_count": 31,
   "metadata": {},
   "outputs": [],
   "source": [
    "import torch \n",
    "import torch.nn as nn\n",
    "import matplotlib.pyplot as plt\n",
    "import numpy as np"
   ]
  },
  {
   "cell_type": "code",
   "execution_count": 24,
   "metadata": {},
   "outputs": [
    {
     "data": {
      "text/plain": [
       "Text(0, 0.5, 'y')"
      ]
     },
     "execution_count": 24,
     "metadata": {},
     "output_type": "execute_result"
    },
    {
     "data": {
      "image/png": "[encoded data removed]",
      "text/plain": [
       "<Figure size 432x288 with 1 Axes>"
      ]
     },
     "metadata": {
      "needs_background": "light"
     },
     "output_type": "display_data"
    }
   ],
   "source": [
    "X = torch.randn(100, 1)*10\n",
    "y = X + torch.randn(100, 1)\n",
    "plt.plot(X.numpy(), y.numpy(), 'o')\n",
    "plt.ylabel('y')"
   ]
  },
  {
   "cell_type": "code",
   "execution_count": 16,
   "metadata": {},
   "outputs": [],
   "source": [
    "# Build a new linear regression class\n",
    "class LR(nn.Module):\n",
    "    def __init__(self, input_size, output_size):\n",
    "        super().__init__()\n",
    "        self.linear = nn.Linear(input_size, output_size)\n",
    "        \n",
    "    def forward(self, x):\n",
    "        pred = self.linear(x)\n",
    "        return pred"
   ]
  },
  {
   "cell_type": "code",
   "execution_count": 17,
   "metadata": {},
   "outputs": [
    {
     "name": "stdout",
     "output_type": "stream",
     "text": [
      "[Parameter containing:\n",
      "tensor([[0.5153]], requires_grad=True), Parameter containing:\n",
      "tensor([-0.4414], requires_grad=True)]\n"
     ]
    }
   ],
   "source": [
    "# Play with some random values\n",
    "torch.manual_seed(1)\n",
    "model = LR(1, 1)\n",
    "print(list(model.parameters()))"
   ]
  },
  {
   "cell_type": "code",
   "execution_count": 25,
   "metadata": {},
   "outputs": [
    {
     "name": "stdout",
     "output_type": "stream",
     "text": [
      "Parameter containing:\n",
      "tensor([[0.5153]], requires_grad=True) Parameter containing:\n",
      "tensor([-0.4414], requires_grad=True)\n"
     ]
    }
   ],
   "source": [
    "[w, b] = model.parameters()\n",
    "print(w, b)"
   ]
  },
  {
   "cell_type": "code",
   "execution_count": 30,
   "metadata": {},
   "outputs": [],
   "source": [
    "# Function to fetch parameters\n",
    "def get_params():\n",
    "    return w[0, 0].item(), b[0].item()"
   ]
  },
  {
   "cell_type": "code",
   "execution_count": 42,
   "metadata": {},
   "outputs": [],
   "source": [
    "# Function to plot initial state\n",
    "def plot_fit(title):\n",
    "    plt.title = title \n",
    "    \n",
    "    w1, b1 = get_params()\n",
    "    x1 =np.array([-30, 30])\n",
    "    y1 = w1 * x1 + b1\n",
    "    plt.plot(x1, y1, \"r\")\n",
    "    plt.scatter(X, y)"
   ]
  },
  {
   "cell_type": "code",
   "execution_count": 35,
   "metadata": {},
   "outputs": [
    {
     "data": {
      "image/png": "[encoded data removed]",
      "text/plain": [
       "<Figure size 432x288 with 1 Axes>"
      ]
     },
     "metadata": {
      "needs_background": "light"
     },
     "output_type": "display_data"
    }
   ],
   "source": [
    "plot_fit(\"Initial Model\")"
   ]
  },
  {
   "cell_type": "code",
   "execution_count": 37,
   "metadata": {},
   "outputs": [],
   "source": [
    "# Define loss function \n",
    "criterion = nn.MSELoss()\n",
    "optimizer = torch.optim.SGD(model.parameters(), lr=0.01)"
   ]
  },
  {
   "cell_type": "code",
   "execution_count": 38,
   "metadata": {},
   "outputs": [
    {
     "name": "stdout",
     "output_type": "stream",
     "text": [
      "epoch:  0 loass:  19.636932373046875\n",
      "epoch:  1 loass:  8.42779541015625\n",
      "epoch:  2 loass:  4.036011695861816\n",
      "epoch:  3 loass:  2.312567710876465\n",
      "epoch:  4 loass:  1.633628487586975\n",
      "epoch:  5 loass:  1.3636568784713745\n",
      "epoch:  6 loass:  1.253913164138794\n",
      "epoch:  7 loass:  1.2070404291152954\n",
      "epoch:  8 loass:  1.1849278211593628\n",
      "epoch:  9 loass:  1.1726547479629517\n",
      "epoch:  10 loass:  1.1643755435943604\n",
      "epoch:  11 loass:  1.1577965021133423\n",
      "epoch:  12 loass:  1.1520146131515503\n",
      "epoch:  13 loass:  1.1466716527938843\n",
      "epoch:  14 loass:  1.1416215896606445\n",
      "epoch:  15 loass:  1.136803388595581\n",
      "epoch:  16 loass:  1.132187843322754\n",
      "epoch:  17 loass:  1.1277592182159424\n",
      "epoch:  18 loass:  1.1235074996948242\n",
      "epoch:  19 loass:  1.1194239854812622\n",
      "epoch:  20 loass:  1.1155023574829102\n",
      "epoch:  21 loass:  1.1117355823516846\n",
      "epoch:  22 loass:  1.1081173419952393\n",
      "epoch:  23 loass:  1.1046421527862549\n",
      "epoch:  24 loass:  1.1013039350509644\n",
      "epoch:  25 loass:  1.098097562789917\n",
      "epoch:  26 loass:  1.095017910003662\n",
      "epoch:  27 loass:  1.0920593738555908\n",
      "epoch:  28 loass:  1.0892177820205688\n",
      "epoch:  29 loass:  1.0864886045455933\n",
      "epoch:  30 loass:  1.083866834640503\n",
      "epoch:  31 loass:  1.0813487768173218\n",
      "epoch:  32 loass:  1.0789297819137573\n",
      "epoch:  33 loass:  1.0766065120697021\n",
      "epoch:  34 loass:  1.074374794960022\n",
      "epoch:  35 loass:  1.0722315311431885\n",
      "epoch:  36 loass:  1.070172667503357\n",
      "epoch:  37 loass:  1.0681947469711304\n",
      "epoch:  38 loass:  1.0662951469421387\n",
      "epoch:  39 loass:  1.0644705295562744\n",
      "epoch:  40 loass:  1.0627179145812988\n",
      "epoch:  41 loass:  1.0610344409942627\n",
      "epoch:  42 loass:  1.059417486190796\n",
      "epoch:  43 loass:  1.0578640699386597\n",
      "epoch:  44 loass:  1.0563722848892212\n",
      "epoch:  45 loass:  1.0549391508102417\n",
      "epoch:  46 loass:  1.053562879562378\n",
      "epoch:  47 loass:  1.0522407293319702\n",
      "epoch:  48 loass:  1.0509706735610962\n",
      "epoch:  49 loass:  1.0497509241104126\n",
      "epoch:  50 loass:  1.048579216003418\n",
      "epoch:  51 loass:  1.0474538803100586\n",
      "epoch:  52 loass:  1.046372890472412\n",
      "epoch:  53 loass:  1.0453344583511353\n",
      "epoch:  54 loass:  1.0443369150161743\n",
      "epoch:  55 loass:  1.0433790683746338\n",
      "epoch:  56 loass:  1.0424590110778809\n",
      "epoch:  57 loass:  1.0415749549865723\n",
      "epoch:  58 loass:  1.0407260656356812\n",
      "epoch:  59 loass:  1.0399106740951538\n",
      "epoch:  60 loass:  1.0391274690628052\n",
      "epoch:  61 loass:  1.0383750200271606\n",
      "epoch:  62 loass:  1.0376522541046143\n",
      "epoch:  63 loass:  1.0369583368301392\n",
      "epoch:  64 loass:  1.036291480064392\n",
      "epoch:  65 loass:  1.0356510877609253\n",
      "epoch:  66 loass:  1.0350359678268433\n",
      "epoch:  67 loass:  1.034444808959961\n",
      "epoch:  68 loass:  1.0338773727416992\n",
      "epoch:  69 loass:  1.0333322286605835\n",
      "epoch:  70 loass:  1.0328086614608765\n",
      "epoch:  71 loass:  1.0323055982589722\n",
      "epoch:  72 loass:  1.0318224430084229\n",
      "epoch:  73 loass:  1.0313583612442017\n",
      "epoch:  74 loass:  1.0309125185012817\n",
      "epoch:  75 loass:  1.0304843187332153\n",
      "epoch:  76 loass:  1.0300732851028442\n",
      "epoch:  77 loass:  1.029678225517273\n",
      "epoch:  78 loass:  1.0292987823486328\n",
      "epoch:  79 loass:  1.0289342403411865\n",
      "epoch:  80 loass:  1.0285841226577759\n",
      "epoch:  81 loass:  1.0282480716705322\n",
      "epoch:  82 loass:  1.0279250144958496\n",
      "epoch:  83 loass:  1.0276148319244385\n",
      "epoch:  84 loass:  1.027316689491272\n",
      "epoch:  85 loass:  1.02703058719635\n",
      "epoch:  86 loass:  1.0267555713653564\n",
      "epoch:  87 loass:  1.0264915227890015\n",
      "epoch:  88 loass:  1.026237964630127\n",
      "epoch:  89 loass:  1.025994062423706\n",
      "epoch:  90 loass:  1.0257601737976074\n",
      "epoch:  91 loass:  1.0255353450775146\n",
      "epoch:  92 loass:  1.0253193378448486\n",
      "epoch:  93 loass:  1.0251121520996094\n",
      "epoch:  94 loass:  1.0249128341674805\n",
      "epoch:  95 loass:  1.0247217416763306\n",
      "epoch:  96 loass:  1.0245375633239746\n",
      "epoch:  97 loass:  1.024361252784729\n",
      "epoch:  98 loass:  1.0241914987564087\n",
      "epoch:  99 loass:  1.0240286588668823\n"
     ]
    }
   ],
   "source": [
    "epoch = 100\n",
    "losses = []\n",
    "for i in range(epoch):\n",
    "    y_pred = model.forward(X)\n",
    "    loss = criterion(y_pred, y)\n",
    "    print(\"epoch: \", i, \"loass: \", loss.item())\n",
    "    \n",
    "    losses.append(loss)\n",
    "    # NOTE: grad will accumulate, thus you have to initialize every time you take a step!!\n",
    "    optimizer.zero_grad()\n",
    "    loss.backward()\n",
    "    optimizer.step()"
   ]
  },
  {
   "cell_type": "code",
   "execution_count": 40,
   "metadata": {},
   "outputs": [
    {
     "data": {
      "text/plain": [
       "Text(0.5, 0, 'epoch')"
      ]
     },
     "execution_count": 40,
     "metadata": {},
     "output_type": "execute_result"
    },
    {
     "data": {
      "image/png": "[encoded data removed]",
      "text/plain": [
       "<Figure size 432x288 with 1 Axes>"
      ]
     },
     "metadata": {
      "needs_background": "light"
     },
     "output_type": "display_data"
    }
   ],
   "source": [
    "plt.plot(range(epoch), losses)\n",
    "plt.ylabel(\"loss\")\n",
    "plt.xlabel(\"epoch\")"
   ]
  },
  {
   "cell_type": "code",
   "execution_count": 43,
   "metadata": {},
   "outputs": [
    {
     "data": {
      "image/png": "[encoded data removed]",
      "text/plain": [
       "<Figure size 432x288 with 1 Axes>"
      ]
     },
     "metadata": {
      "needs_background": "light"
     },
     "output_type": "display_data"
    }
   ],
   "source": [
    "plot_fit(\"Trained Model\")"
   ]
  },
  {
   "cell_type": "code",
   "execution_count": null,
   "metadata": {},
   "outputs": [],
   "source": []
  }
 ],
 "metadata": {
  "kernelspec": {
   "display_name": "Python 3.7.4 64-bit",
   "language": "python",
   "name": "python37464bitc32ce4a03cda47aa907d3f777079e78b"
  },
  "language_info": {
   "codemirror_mode": {
    "name": "ipython",
    "version": 3
   },
   "file_extension": ".py",
   "mimetype": "text/x-python",
   "name": "python",
   "nbconvert_exporter": "python",
   "pygments_lexer": "ipython3",
   "version": "3.7.4"
  }
 },
 "nbformat": 4,
 "nbformat_minor": 4
}
