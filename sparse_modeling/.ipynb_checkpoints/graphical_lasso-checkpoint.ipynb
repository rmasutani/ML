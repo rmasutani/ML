{
 "cells": [
  {
   "cell_type": "code",
   "execution_count": 1,
   "metadata": {},
   "outputs": [],
   "source": [
    "import numpy as np\n",
    "import scipy\n",
    "import matplotlib.pyplot as plt \n",
    "import seaborn as sns\n",
    "\n",
    "np.random.seed(101)\n",
    "\n",
    "sns.set()\n",
    "plt.rcParams['figure.figsize'] = (9.0, 7.0)"
   ]
  },
  {
   "cell_type": "markdown",
   "metadata": {},
   "source": [
    "## Gaussian Graphical Model (GGM)\n",
    "多変量正規分布&thinsp; $N(\\boldsymbol{\\mu}, \\Sigma)$&thinsp; に従う確率変数ベクトル&thinsp; $\\boldsymbol{X} = (X_{1}, ..., X_{p})^{T}$&thinsp; において変数間の関係性を推定する手法\n",
    "<br>\n",
    "### (復習)多変量正規分布\n",
    "確率密度関数は以下\n",
    "<br>\n",
    "<br>\n",
    "$$f(\\mathbf{x};\\boldsymbol{\\mu}, \\Sigma) = \\frac{1}{(2\\pi)^{p/2}|\\Sigma|^{1/2}}exp\\Bigl\\{ -\\frac{1}{2}(\\mathbf{x}-\\boldsymbol{\\mu})^{T}\\Sigma^{-1}(\\mathbf{x}-\\boldsymbol{\\mu})\\Bigr\\}$$\n",
    "<br>\n",
    "<br>\n"
   ]
  },
  {
   "cell_type": "code",
   "execution_count": null,
   "metadata": {},
   "outputs": [],
   "source": []
  },
  {
   "cell_type": "code",
   "execution_count": null,
   "metadata": {},
   "outputs": [],
   "source": []
  },
  {
   "cell_type": "code",
   "execution_count": null,
   "metadata": {},
   "outputs": [],
   "source": []
  },
  {
   "cell_type": "code",
   "execution_count": null,
   "metadata": {},
   "outputs": [],
   "source": []
  },
  {
   "cell_type": "code",
   "execution_count": null,
   "metadata": {},
   "outputs": [],
   "source": []
  },
  {
   "cell_type": "code",
   "execution_count": null,
   "metadata": {},
   "outputs": [],
   "source": []
  }
 ],
 "metadata": {
  "kernelspec": {
   "display_name": "Python 3.7.4 64-bit",
   "language": "python",
   "name": "python37464bitc32ce4a03cda47aa907d3f777079e78b"
  },
  "language_info": {
   "codemirror_mode": {
    "name": "ipython",
    "version": 3
   },
   "file_extension": ".py",
   "mimetype": "text/x-python",
   "name": "python",
   "nbconvert_exporter": "python",
   "pygments_lexer": "ipython3",
   "version": "3.7.4"
  }
 },
 "nbformat": 4,
 "nbformat_minor": 2
}
